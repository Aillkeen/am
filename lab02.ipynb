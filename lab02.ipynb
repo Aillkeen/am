{
  "nbformat": 4,
  "nbformat_minor": 0,
  "metadata": {
    "colab": {
      "provenance": [],
      "collapsed_sections": [],
      "toc_visible": true
    },
    "kernelspec": {
      "name": "python3",
      "display_name": "Python 3"
    },
    "language_info": {
      "name": "python"
    }
  },
  "cells": [
    {
      "cell_type": "markdown",
      "source": [
        "# Importações"
      ],
      "metadata": {
        "id": "pSmo_8RjcjxB"
      }
    },
    {
      "cell_type": "code",
      "execution_count": 1,
      "metadata": {
        "id": "cVjW5gErXXrM"
      },
      "outputs": [],
      "source": [
        "%matplotlib inline\n",
        "\n",
        "import pandas as pd\n",
        "import matplotlib\n",
        "import matplotlib.pyplot as plt\n",
        "import numpy as np\n",
        "\n",
        "from sklearn.linear_model import LinearRegression\n",
        "from sklearn.metrics import mean_squared_error, r2_score, explained_variance_score, median_absolute_error\n",
        "from sklearn.linear_model import Ridge, RidgeCV, ElasticNet, LassoCV, LassoLarsCV, Lasso\n",
        "from sklearn.model_selection import cross_val_score\n",
        "from sklearn.neighbors import KNeighborsRegressor\n",
        "from sklearn.model_selection import train_test_split\n",
        "\n",
        "matplotlib.rcParams['figure.figsize'] = (15, 10)"
      ]
    },
    {
      "cell_type": "markdown",
      "source": [
        "# Funções uteis"
      ],
      "metadata": {
        "id": "aHgbTfg6SO-v"
      }
    },
    {
      "cell_type": "code",
      "source": [
        "def plot_res_e_pred(valor_pred, valor_real, titulo_grafico):\n",
        "    df_pred = pd.DataFrame({\"predicao\":valor_pred, \"valor_real\":valor_real})\n",
        "    df_pred[\"residuos\"] = df_pred[\"valor_real\"] - df_pred[\"predicao\"]\n",
        "    df_pred.plot(x = \"predicao\", y = \"residuos\", kind = \"scatter\")\n",
        "    plt.title(titulo_grafico)\n",
        "    return df_pred\n",
        "\n",
        "def calcular_rmse_cv(model,  x_geral, y_geral, cv):\n",
        "    rmse = np.sqrt(-cross_val_score(model, x_geral, y_geral, scoring=\"neg_mean_squared_error\", cv=cv, n_jobs = -1))\n",
        "    print(\"Valor do RMSE: {0} \".format(rmse))\n",
        "    return rmse\n",
        "\n",
        "def calcular_rmse(y, y_pred):\n",
        "  return mean_squared_error(y, y_pred, squared = False)\n",
        "\n",
        "def plot_validacao(values, alphas, title):\n",
        "    data = pd.Series(values, index=alphas)\n",
        "    data.plot(title = \"Validação\")\n",
        "    plt.xlabel(\"alpha\")\n",
        "    plt.ylabel(title)\n",
        "\n",
        "def print_shape(df = [], df2 = []):\n",
        "  if len(df) > 0:\n",
        "    print(f\"Shape df 1: {df.shape}\")\n",
        "  if len(df2) > 0:\n",
        "    print(f\"Shape df 2: {df2.shape}\")\n",
        "\n",
        "def get_df_plot(valor_pred, valor_real):\n",
        "    df_pred = pd.DataFrame({\"predicao\":valor_pred, \"valor_real\":valor_real})\n",
        "    df_pred[\"residuos\"] = df_pred[\"valor_real\"] - df_pred[\"predicao\"]\n",
        "    return df_pred"
      ],
      "metadata": {
        "id": "BWCHiDDsSSZx"
      },
      "execution_count": 2,
      "outputs": []
    },
    {
      "cell_type": "markdown",
      "source": [
        "# Dataset"
      ],
      "metadata": {
        "id": "tOWVvr5xcdSB"
      }
    },
    {
      "cell_type": "markdown",
      "source": [
        "O nome das colunas nos dois datasets estão diferentes. Resolvi padronizar e deixar os dois iguais."
      ],
      "metadata": {
        "id": "lZwo1Psla8Nm"
      }
    },
    {
      "cell_type": "code",
      "source": [
        "\n",
        "col_names=['ano', 'sq_candidato', 'nome', 'uf', 'partido',\n",
        "       'qtd_doacoes', 'qtd_doadores', 'total_receita', 'media_receita',\n",
        "       'recursos de outros candidatos/comitês', 'recursos de pessoas físicas',\n",
        "       'recursos de pessoas jurídicas', 'recursos próprios', 'qtd_despesas',\n",
        "       'qtd_fornecedores', 'total_despesa', 'media_despesa', 'cargo',\n",
        "       'sexo', 'grau_instrucao', 'estado_civil', 'ocupacao',\n",
        "       'votos'] \n",
        "df_2006_2010 = pd.read_csv('eleicoes_2006_a_2010.csv', names=col_names, header=None, skiprows=1)\n",
        "df_2014 = pd.read_csv('eleicoes_2014.csv', names=col_names, header=None, skiprows=1)"
      ],
      "metadata": {
        "id": "pPztU7FwcgDi"
      },
      "execution_count": 3,
      "outputs": []
    },
    {
      "cell_type": "markdown",
      "source": [
        "Vamos verificar se estão com a mesma qtd de colunas"
      ],
      "metadata": {
        "id": "ALhzvo2bbfHv"
      }
    },
    {
      "cell_type": "code",
      "source": [
        "print_shape(df_2006_2010, df_2014)"
      ],
      "metadata": {
        "colab": {
          "base_uri": "https://localhost:8080/"
        },
        "id": "0ymSqnxsZrNy",
        "outputId": "03d27427-0937-40ca-bb48-1e112924b57a"
      },
      "execution_count": 4,
      "outputs": [
        {
          "output_type": "stream",
          "name": "stdout",
          "text": [
            "Shape df 1: (7330, 23)\n",
            "Shape df 2: (4936, 23)\n"
          ]
        }
      ]
    },
    {
      "cell_type": "code",
      "source": [
        "df = df_2006_2010.append(df_2014, ignore_index=True)"
      ],
      "metadata": {
        "id": "LxANGT7rbnbH"
      },
      "execution_count": 5,
      "outputs": []
    },
    {
      "cell_type": "code",
      "source": [
        "print_shape(df)"
      ],
      "metadata": {
        "colab": {
          "base_uri": "https://localhost:8080/"
        },
        "id": "36XrR83td_c3",
        "outputId": "e73ec155-b255-47ed-a738-33713bcf5ba5"
      },
      "execution_count": 6,
      "outputs": [
        {
          "output_type": "stream",
          "name": "stdout",
          "text": [
            "Shape df 1: (12266, 23)\n"
          ]
        }
      ]
    },
    {
      "cell_type": "code",
      "source": [
        "df.head()"
      ],
      "metadata": {
        "colab": {
          "base_uri": "https://localhost:8080/",
          "height": 384
        },
        "id": "1RFzTmnLdJ01",
        "outputId": "5d75640e-c6e4-4501-9c5c-a978bcab4154"
      },
      "execution_count": 7,
      "outputs": [
        {
          "output_type": "execute_result",
          "data": {
            "text/plain": [
              "    ano  sq_candidato                             nome  uf partido  \\\n",
              "0  2006         10001      JOSÉ LUIZ NOGUEIRA DE SOUSA  AP      PT   \n",
              "1  2006         10002                LOIVA DE OLIVEIRA  RO      PT   \n",
              "2  2006         10002  MARIA DALVA DE SOUZA FIGUEIREDO  AP      PT   \n",
              "3  2006         10002                   ROMALDO MILANI  MS   PRONA   \n",
              "4  2006         10003           ANSELMO DE JESUS ABREU  RO      PT   \n",
              "\n",
              "   qtd_doacoes  qtd_doadores  total_receita  media_receita  \\\n",
              "0            6             6       16600.00    2766.666667   \n",
              "1           13            13       22826.00    1755.846154   \n",
              "2           17            16      148120.80    9257.550000   \n",
              "3            6             6        3001.12     500.186667   \n",
              "4           48            48            NaN            NaN   \n",
              "\n",
              "   recursos de outros candidatos/comitês  ...  qtd_despesas  qtd_fornecedores  \\\n",
              "0                                    NaN  ...            14                14   \n",
              "1                                 6625.0  ...            24                23   \n",
              "2                                 2250.0  ...           123               108   \n",
              "3                                    NaN  ...             8                 8   \n",
              "4                                    NaN  ...           133               120   \n",
              "\n",
              "   total_despesa  media_despesa             cargo       sexo  \\\n",
              "0       16583.60    1184.542857  DEPUTADO FEDERAL  MASCULINO   \n",
              "1       20325.99     883.738696  DEPUTADO FEDERAL   FEMININO   \n",
              "2      146011.70    1351.960185  DEPUTADO FEDERAL   FEMININO   \n",
              "3        3001.12     375.140000  DEPUTADO FEDERAL  MASCULINO   \n",
              "4      116416.64     970.138667  DEPUTADO FEDERAL  MASCULINO   \n",
              "\n",
              "                grau_instrucao estado_civil                   ocupacao  votos  \n",
              "0        ENSINO MÉDIO COMPLETO    CASADO(A)                   VEREADOR   8579  \n",
              "1            SUPERIOR COMPLETO  SOLTEIRO(A)  SERVIDOR PÚBLICO ESTADUAL   2757  \n",
              "2            SUPERIOR COMPLETO     VIÚVO(A)                   PEDAGOGO  17428  \n",
              "3      ENSINO MÉDIO INCOMPLETO    CASADO(A)          MILITAR REFORMADO   1193  \n",
              "4  ENSINO FUNDAMENTAL COMPLETO    CASADO(A)                   DEPUTADO  29401  \n",
              "\n",
              "[5 rows x 23 columns]"
            ],
            "text/html": [
              "\n",
              "  <div id=\"df-5fac98e4-5790-4d5d-bf1e-49d2a889a1e3\">\n",
              "    <div class=\"colab-df-container\">\n",
              "      <div>\n",
              "<style scoped>\n",
              "    .dataframe tbody tr th:only-of-type {\n",
              "        vertical-align: middle;\n",
              "    }\n",
              "\n",
              "    .dataframe tbody tr th {\n",
              "        vertical-align: top;\n",
              "    }\n",
              "\n",
              "    .dataframe thead th {\n",
              "        text-align: right;\n",
              "    }\n",
              "</style>\n",
              "<table border=\"1\" class=\"dataframe\">\n",
              "  <thead>\n",
              "    <tr style=\"text-align: right;\">\n",
              "      <th></th>\n",
              "      <th>ano</th>\n",
              "      <th>sq_candidato</th>\n",
              "      <th>nome</th>\n",
              "      <th>uf</th>\n",
              "      <th>partido</th>\n",
              "      <th>qtd_doacoes</th>\n",
              "      <th>qtd_doadores</th>\n",
              "      <th>total_receita</th>\n",
              "      <th>media_receita</th>\n",
              "      <th>recursos de outros candidatos/comitês</th>\n",
              "      <th>...</th>\n",
              "      <th>qtd_despesas</th>\n",
              "      <th>qtd_fornecedores</th>\n",
              "      <th>total_despesa</th>\n",
              "      <th>media_despesa</th>\n",
              "      <th>cargo</th>\n",
              "      <th>sexo</th>\n",
              "      <th>grau_instrucao</th>\n",
              "      <th>estado_civil</th>\n",
              "      <th>ocupacao</th>\n",
              "      <th>votos</th>\n",
              "    </tr>\n",
              "  </thead>\n",
              "  <tbody>\n",
              "    <tr>\n",
              "      <th>0</th>\n",
              "      <td>2006</td>\n",
              "      <td>10001</td>\n",
              "      <td>JOSÉ LUIZ NOGUEIRA DE SOUSA</td>\n",
              "      <td>AP</td>\n",
              "      <td>PT</td>\n",
              "      <td>6</td>\n",
              "      <td>6</td>\n",
              "      <td>16600.00</td>\n",
              "      <td>2766.666667</td>\n",
              "      <td>NaN</td>\n",
              "      <td>...</td>\n",
              "      <td>14</td>\n",
              "      <td>14</td>\n",
              "      <td>16583.60</td>\n",
              "      <td>1184.542857</td>\n",
              "      <td>DEPUTADO FEDERAL</td>\n",
              "      <td>MASCULINO</td>\n",
              "      <td>ENSINO MÉDIO COMPLETO</td>\n",
              "      <td>CASADO(A)</td>\n",
              "      <td>VEREADOR</td>\n",
              "      <td>8579</td>\n",
              "    </tr>\n",
              "    <tr>\n",
              "      <th>1</th>\n",
              "      <td>2006</td>\n",
              "      <td>10002</td>\n",
              "      <td>LOIVA DE OLIVEIRA</td>\n",
              "      <td>RO</td>\n",
              "      <td>PT</td>\n",
              "      <td>13</td>\n",
              "      <td>13</td>\n",
              "      <td>22826.00</td>\n",
              "      <td>1755.846154</td>\n",
              "      <td>6625.0</td>\n",
              "      <td>...</td>\n",
              "      <td>24</td>\n",
              "      <td>23</td>\n",
              "      <td>20325.99</td>\n",
              "      <td>883.738696</td>\n",
              "      <td>DEPUTADO FEDERAL</td>\n",
              "      <td>FEMININO</td>\n",
              "      <td>SUPERIOR COMPLETO</td>\n",
              "      <td>SOLTEIRO(A)</td>\n",
              "      <td>SERVIDOR PÚBLICO ESTADUAL</td>\n",
              "      <td>2757</td>\n",
              "    </tr>\n",
              "    <tr>\n",
              "      <th>2</th>\n",
              "      <td>2006</td>\n",
              "      <td>10002</td>\n",
              "      <td>MARIA DALVA DE SOUZA FIGUEIREDO</td>\n",
              "      <td>AP</td>\n",
              "      <td>PT</td>\n",
              "      <td>17</td>\n",
              "      <td>16</td>\n",
              "      <td>148120.80</td>\n",
              "      <td>9257.550000</td>\n",
              "      <td>2250.0</td>\n",
              "      <td>...</td>\n",
              "      <td>123</td>\n",
              "      <td>108</td>\n",
              "      <td>146011.70</td>\n",
              "      <td>1351.960185</td>\n",
              "      <td>DEPUTADO FEDERAL</td>\n",
              "      <td>FEMININO</td>\n",
              "      <td>SUPERIOR COMPLETO</td>\n",
              "      <td>VIÚVO(A)</td>\n",
              "      <td>PEDAGOGO</td>\n",
              "      <td>17428</td>\n",
              "    </tr>\n",
              "    <tr>\n",
              "      <th>3</th>\n",
              "      <td>2006</td>\n",
              "      <td>10002</td>\n",
              "      <td>ROMALDO MILANI</td>\n",
              "      <td>MS</td>\n",
              "      <td>PRONA</td>\n",
              "      <td>6</td>\n",
              "      <td>6</td>\n",
              "      <td>3001.12</td>\n",
              "      <td>500.186667</td>\n",
              "      <td>NaN</td>\n",
              "      <td>...</td>\n",
              "      <td>8</td>\n",
              "      <td>8</td>\n",
              "      <td>3001.12</td>\n",
              "      <td>375.140000</td>\n",
              "      <td>DEPUTADO FEDERAL</td>\n",
              "      <td>MASCULINO</td>\n",
              "      <td>ENSINO MÉDIO INCOMPLETO</td>\n",
              "      <td>CASADO(A)</td>\n",
              "      <td>MILITAR REFORMADO</td>\n",
              "      <td>1193</td>\n",
              "    </tr>\n",
              "    <tr>\n",
              "      <th>4</th>\n",
              "      <td>2006</td>\n",
              "      <td>10003</td>\n",
              "      <td>ANSELMO DE JESUS ABREU</td>\n",
              "      <td>RO</td>\n",
              "      <td>PT</td>\n",
              "      <td>48</td>\n",
              "      <td>48</td>\n",
              "      <td>NaN</td>\n",
              "      <td>NaN</td>\n",
              "      <td>NaN</td>\n",
              "      <td>...</td>\n",
              "      <td>133</td>\n",
              "      <td>120</td>\n",
              "      <td>116416.64</td>\n",
              "      <td>970.138667</td>\n",
              "      <td>DEPUTADO FEDERAL</td>\n",
              "      <td>MASCULINO</td>\n",
              "      <td>ENSINO FUNDAMENTAL COMPLETO</td>\n",
              "      <td>CASADO(A)</td>\n",
              "      <td>DEPUTADO</td>\n",
              "      <td>29401</td>\n",
              "    </tr>\n",
              "  </tbody>\n",
              "</table>\n",
              "<p>5 rows × 23 columns</p>\n",
              "</div>\n",
              "      <button class=\"colab-df-convert\" onclick=\"convertToInteractive('df-5fac98e4-5790-4d5d-bf1e-49d2a889a1e3')\"\n",
              "              title=\"Convert this dataframe to an interactive table.\"\n",
              "              style=\"display:none;\">\n",
              "        \n",
              "  <svg xmlns=\"http://www.w3.org/2000/svg\" height=\"24px\"viewBox=\"0 0 24 24\"\n",
              "       width=\"24px\">\n",
              "    <path d=\"M0 0h24v24H0V0z\" fill=\"none\"/>\n",
              "    <path d=\"M18.56 5.44l.94 2.06.94-2.06 2.06-.94-2.06-.94-.94-2.06-.94 2.06-2.06.94zm-11 1L8.5 8.5l.94-2.06 2.06-.94-2.06-.94L8.5 2.5l-.94 2.06-2.06.94zm10 10l.94 2.06.94-2.06 2.06-.94-2.06-.94-.94-2.06-.94 2.06-2.06.94z\"/><path d=\"M17.41 7.96l-1.37-1.37c-.4-.4-.92-.59-1.43-.59-.52 0-1.04.2-1.43.59L10.3 9.45l-7.72 7.72c-.78.78-.78 2.05 0 2.83L4 21.41c.39.39.9.59 1.41.59.51 0 1.02-.2 1.41-.59l7.78-7.78 2.81-2.81c.8-.78.8-2.07 0-2.86zM5.41 20L4 18.59l7.72-7.72 1.47 1.35L5.41 20z\"/>\n",
              "  </svg>\n",
              "      </button>\n",
              "      \n",
              "  <style>\n",
              "    .colab-df-container {\n",
              "      display:flex;\n",
              "      flex-wrap:wrap;\n",
              "      gap: 12px;\n",
              "    }\n",
              "\n",
              "    .colab-df-convert {\n",
              "      background-color: #E8F0FE;\n",
              "      border: none;\n",
              "      border-radius: 50%;\n",
              "      cursor: pointer;\n",
              "      display: none;\n",
              "      fill: #1967D2;\n",
              "      height: 32px;\n",
              "      padding: 0 0 0 0;\n",
              "      width: 32px;\n",
              "    }\n",
              "\n",
              "    .colab-df-convert:hover {\n",
              "      background-color: #E2EBFA;\n",
              "      box-shadow: 0px 1px 2px rgba(60, 64, 67, 0.3), 0px 1px 3px 1px rgba(60, 64, 67, 0.15);\n",
              "      fill: #174EA6;\n",
              "    }\n",
              "\n",
              "    [theme=dark] .colab-df-convert {\n",
              "      background-color: #3B4455;\n",
              "      fill: #D2E3FC;\n",
              "    }\n",
              "\n",
              "    [theme=dark] .colab-df-convert:hover {\n",
              "      background-color: #434B5C;\n",
              "      box-shadow: 0px 1px 3px 1px rgba(0, 0, 0, 0.15);\n",
              "      filter: drop-shadow(0px 1px 2px rgba(0, 0, 0, 0.3));\n",
              "      fill: #FFFFFF;\n",
              "    }\n",
              "  </style>\n",
              "\n",
              "      <script>\n",
              "        const buttonEl =\n",
              "          document.querySelector('#df-5fac98e4-5790-4d5d-bf1e-49d2a889a1e3 button.colab-df-convert');\n",
              "        buttonEl.style.display =\n",
              "          google.colab.kernel.accessAllowed ? 'block' : 'none';\n",
              "\n",
              "        async function convertToInteractive(key) {\n",
              "          const element = document.querySelector('#df-5fac98e4-5790-4d5d-bf1e-49d2a889a1e3');\n",
              "          const dataTable =\n",
              "            await google.colab.kernel.invokeFunction('convertToInteractive',\n",
              "                                                     [key], {});\n",
              "          if (!dataTable) return;\n",
              "\n",
              "          const docLinkHtml = 'Like what you see? Visit the ' +\n",
              "            '<a target=\"_blank\" href=https://colab.research.google.com/notebooks/data_table.ipynb>data table notebook</a>'\n",
              "            + ' to learn more about interactive tables.';\n",
              "          element.innerHTML = '';\n",
              "          dataTable['output_type'] = 'display_data';\n",
              "          await google.colab.output.renderOutput(dataTable, element);\n",
              "          const docLink = document.createElement('div');\n",
              "          docLink.innerHTML = docLinkHtml;\n",
              "          element.appendChild(docLink);\n",
              "        }\n",
              "      </script>\n",
              "    </div>\n",
              "  </div>\n",
              "  "
            ]
          },
          "metadata": {},
          "execution_count": 7
        }
      ]
    },
    {
      "cell_type": "markdown",
      "source": [
        "# Análise e viés dos dados"
      ],
      "metadata": {
        "id": "to_n_qGTeOM8"
      }
    },
    {
      "cell_type": "markdown",
      "source": [
        "Vamos analisar alguns dados numericos"
      ],
      "metadata": {
        "id": "uIkG9YJGcDDB"
      }
    },
    {
      "cell_type": "code",
      "source": [
        "total_receita_df = df['total_receita']\n",
        "total_despesa_df = df['total_despesa']"
      ],
      "metadata": {
        "id": "AHe2YXqreR0d"
      },
      "execution_count": 8,
      "outputs": []
    },
    {
      "cell_type": "code",
      "source": [
        "total_despesa_df.hist()"
      ],
      "metadata": {
        "colab": {
          "base_uri": "https://localhost:8080/",
          "height": 622
        },
        "id": "lo3CosnIkkdQ",
        "outputId": "9591a778-db34-4e6d-b229-31bce8c89665"
      },
      "execution_count": 9,
      "outputs": [
        {
          "output_type": "execute_result",
          "data": {
            "text/plain": [
              "<matplotlib.axes._subplots.AxesSubplot at 0x7fee5e2fc310>"
            ]
          },
          "metadata": {},
          "execution_count": 9
        },
        {
          "output_type": "display_data",
          "data": {
            "text/plain": [
              "<Figure size 1080x720 with 1 Axes>"
            ],
            "image/png": "[encoded data removed]"
          },
          "metadata": {
            "needs_background": "light"
          }
        }
      ]
    },
    {
      "cell_type": "code",
      "source": [
        "total_receita_df.hist()"
      ],
      "metadata": {
        "colab": {
          "base_uri": "https://localhost:8080/",
          "height": 622
        },
        "id": "kdoQKWYgekHW",
        "outputId": "daadfccf-a534-4483-9e61-bb9f4010de26"
      },
      "execution_count": 10,
      "outputs": [
        {
          "output_type": "execute_result",
          "data": {
            "text/plain": [
              "<matplotlib.axes._subplots.AxesSubplot at 0x7fee5dc1c6d0>"
            ]
          },
          "metadata": {},
          "execution_count": 10
        },
        {
          "output_type": "display_data",
          "data": {
            "text/plain": [
              "<Figure size 1080x720 with 1 Axes>"
            ],
            "image/png": "[encoded data removed]"
          },
          "metadata": {
            "needs_background": "light"
          }
        }
      ]
    },
    {
      "cell_type": "markdown",
      "source": [
        "Como podemos ver existem algumas váriaveis com viés. Podemos resolver isso por meio do uso de Log. Deixando os dados mais normalizados. Por exemplo: vamos visualizar a forma logaritmica dos dados da variável 'total_despesa'."
      ],
      "metadata": {
        "id": "pvamjU3akoN-"
      }
    },
    {
      "cell_type": "code",
      "source": [
        "total_despesa_log_df = pd.DataFrame({\"log_value\":np.log1p(total_despesa_df)})\n",
        "\n",
        "total_despesa_log_df['log_value'].hist()"
      ],
      "metadata": {
        "colab": {
          "base_uri": "https://localhost:8080/",
          "height": 609
        },
        "id": "ejUyR7bJlu3T",
        "outputId": "05791a0f-ee88-4ba6-cb40-403f04d743bd"
      },
      "execution_count": 11,
      "outputs": [
        {
          "output_type": "execute_result",
          "data": {
            "text/plain": [
              "<matplotlib.axes._subplots.AxesSubplot at 0x7fee5d78da50>"
            ]
          },
          "metadata": {},
          "execution_count": 11
        },
        {
          "output_type": "display_data",
          "data": {
            "text/plain": [
              "<Figure size 1080x720 with 1 Axes>"
            ],
            "image/png": "[encoded data removed]"
          },
          "metadata": {
            "needs_background": "light"
          }
        }
      ]
    },
    {
      "cell_type": "markdown",
      "source": [
        "Podemos ver que houve uma melhora no viés das informações. Desse modo, podemos aplicar o mesmo procedimento para as outras variáveis numéricas. Mas para isso precisamos definir uma tolerância no valor do desvio. \n",
        "\n",
        "Utilizando o exemplo do material de estudo disponibilizado no Kaggle, vamos utilizar como referência o valor de 0.75 como limiar para o viés."
      ],
      "metadata": {
        "id": "Q1H6dX9Am_4t"
      }
    },
    {
      "cell_type": "code",
      "source": [
        "number_column_filter = df.dtypes[df.dtypes != \"object\"].index\n",
        "skewed_feats = df[number_column_filter].apply(lambda x: x.dropna().skew())\n",
        "skewed_feats"
      ],
      "metadata": {
        "colab": {
          "base_uri": "https://localhost:8080/"
        },
        "id": "0zJbiAtnnpDA",
        "outputId": "7bf37a75-4943-42fb-e0e5-816be264982b"
      },
      "execution_count": 12,
      "outputs": [
        {
          "output_type": "execute_result",
          "data": {
            "text/plain": [
              "ano                                      -0.234904\n",
              "sq_candidato                             -0.037113\n",
              "qtd_doacoes                              44.008592\n",
              "qtd_doadores                             42.113330\n",
              "total_receita                             4.772896\n",
              "media_receita                             9.543317\n",
              "recursos de outros candidatos/comitês    12.280405\n",
              "recursos de pessoas físicas               6.813025\n",
              "recursos de pessoas jurídicas             3.681795\n",
              "recursos próprios                        14.395394\n",
              "qtd_despesas                              7.574750\n",
              "qtd_fornecedores                          7.675399\n",
              "total_despesa                             4.911894\n",
              "media_despesa                            78.975047\n",
              "votos                                     8.283525\n",
              "dtype: float64"
            ]
          },
          "metadata": {},
          "execution_count": 12
        }
      ]
    },
    {
      "cell_type": "code",
      "source": [
        "skewed_feats = skewed_feats[skewed_feats > 0.75]\n",
        "skewed_feats"
      ],
      "metadata": {
        "colab": {
          "base_uri": "https://localhost:8080/"
        },
        "id": "x8d40j7Bok9r",
        "outputId": "fa6d8118-2464-40ca-f990-bfcea87eda88"
      },
      "execution_count": 13,
      "outputs": [
        {
          "output_type": "execute_result",
          "data": {
            "text/plain": [
              "qtd_doacoes                              44.008592\n",
              "qtd_doadores                             42.113330\n",
              "total_receita                             4.772896\n",
              "media_receita                             9.543317\n",
              "recursos de outros candidatos/comitês    12.280405\n",
              "recursos de pessoas físicas               6.813025\n",
              "recursos de pessoas jurídicas             3.681795\n",
              "recursos próprios                        14.395394\n",
              "qtd_despesas                              7.574750\n",
              "qtd_fornecedores                          7.675399\n",
              "total_despesa                             4.911894\n",
              "media_despesa                            78.975047\n",
              "votos                                     8.283525\n",
              "dtype: float64"
            ]
          },
          "metadata": {},
          "execution_count": 13
        }
      ]
    },
    {
      "cell_type": "markdown",
      "source": [
        "Agora que filtramos o viés nas variáveis, vamos agora aplicar o log nelas."
      ],
      "metadata": {
        "id": "Yws160dNoyXa"
      }
    },
    {
      "cell_type": "markdown",
      "source": [
        "Valor antes do log:"
      ],
      "metadata": {
        "id": "NdPjR3uxpEq8"
      }
    },
    {
      "cell_type": "code",
      "source": [
        "df[number_column_filter].head()"
      ],
      "metadata": {
        "colab": {
          "base_uri": "https://localhost:8080/",
          "height": 206
        },
        "id": "zTqfhIo_pG_8",
        "outputId": "afe4d0f1-415b-4548-bfdd-d79ac8f6c4ee"
      },
      "execution_count": 14,
      "outputs": [
        {
          "output_type": "execute_result",
          "data": {
            "text/plain": [
              "    ano  sq_candidato  qtd_doacoes  qtd_doadores  total_receita  \\\n",
              "0  2006         10001            6             6       16600.00   \n",
              "1  2006         10002           13            13       22826.00   \n",
              "2  2006         10002           17            16      148120.80   \n",
              "3  2006         10002            6             6        3001.12   \n",
              "4  2006         10003           48            48            NaN   \n",
              "\n",
              "   media_receita  recursos de outros candidatos/comitês  \\\n",
              "0    2766.666667                                    NaN   \n",
              "1    1755.846154                                 6625.0   \n",
              "2    9257.550000                                 2250.0   \n",
              "3     500.186667                                    NaN   \n",
              "4            NaN                                    NaN   \n",
              "\n",
              "   recursos de pessoas físicas  recursos de pessoas jurídicas  \\\n",
              "0                       9000.0                        6300.00   \n",
              "1                      15000.0                        1000.00   \n",
              "2                      34150.0                       62220.80   \n",
              "3                       1150.0                        1101.12   \n",
              "4                      50878.0                            NaN   \n",
              "\n",
              "   recursos próprios  qtd_despesas  qtd_fornecedores  total_despesa  \\\n",
              "0             1300.0            14                14       16583.60   \n",
              "1              201.0            24                23       20325.99   \n",
              "2            59500.0           123               108      146011.70   \n",
              "3              750.0             8                 8        3001.12   \n",
              "4            68942.0           133               120      116416.64   \n",
              "\n",
              "   media_despesa  votos  \n",
              "0    1184.542857   8579  \n",
              "1     883.738696   2757  \n",
              "2    1351.960185  17428  \n",
              "3     375.140000   1193  \n",
              "4     970.138667  29401  "
            ],
            "text/html": [
              "\n",
              "  <div id=\"df-b8f224c3-6aff-4bbb-b193-d676f798366c\">\n",
              "    <div class=\"colab-df-container\">\n",
              "      <div>\n",
              "<style scoped>\n",
              "    .dataframe tbody tr th:only-of-type {\n",
              "        vertical-align: middle;\n",
              "    }\n",
              "\n",
              "    .dataframe tbody tr th {\n",
              "        vertical-align: top;\n",
              "    }\n",
              "\n",
              "    .dataframe thead th {\n",
              "        text-align: right;\n",
              "    }\n",
              "</style>\n",
              "<table border=\"1\" class=\"dataframe\">\n",
              "  <thead>\n",
              "    <tr style=\"text-align: right;\">\n",
              "      <th></th>\n",
              "      <th>ano</th>\n",
              "      <th>sq_candidato</th>\n",
              "      <th>qtd_doacoes</th>\n",
              "      <th>qtd_doadores</th>\n",
              "      <th>total_receita</th>\n",
              "      <th>media_receita</th>\n",
              "      <th>recursos de outros candidatos/comitês</th>\n",
              "      <th>recursos de pessoas físicas</th>\n",
              "      <th>recursos de pessoas jurídicas</th>\n",
              "      <th>recursos próprios</th>\n",
              "      <th>qtd_despesas</th>\n",
              "      <th>qtd_fornecedores</th>\n",
              "      <th>total_despesa</th>\n",
              "      <th>media_despesa</th>\n",
              "      <th>votos</th>\n",
              "    </tr>\n",
              "  </thead>\n",
              "  <tbody>\n",
              "    <tr>\n",
              "      <th>0</th>\n",
              "      <td>2006</td>\n",
              "      <td>10001</td>\n",
              "      <td>6</td>\n",
              "      <td>6</td>\n",
              "      <td>16600.00</td>\n",
              "      <td>2766.666667</td>\n",
              "      <td>NaN</td>\n",
              "      <td>9000.0</td>\n",
              "      <td>6300.00</td>\n",
              "      <td>1300.0</td>\n",
              "      <td>14</td>\n",
              "      <td>14</td>\n",
              "      <td>16583.60</td>\n",
              "      <td>1184.542857</td>\n",
              "      <td>8579</td>\n",
              "    </tr>\n",
              "    <tr>\n",
              "      <th>1</th>\n",
              "      <td>2006</td>\n",
              "      <td>10002</td>\n",
              "      <td>13</td>\n",
              "      <td>13</td>\n",
              "      <td>22826.00</td>\n",
              "      <td>1755.846154</td>\n",
              "      <td>6625.0</td>\n",
              "      <td>15000.0</td>\n",
              "      <td>1000.00</td>\n",
              "      <td>201.0</td>\n",
              "      <td>24</td>\n",
              "      <td>23</td>\n",
              "      <td>20325.99</td>\n",
              "      <td>883.738696</td>\n",
              "      <td>2757</td>\n",
              "    </tr>\n",
              "    <tr>\n",
              "      <th>2</th>\n",
              "      <td>2006</td>\n",
              "      <td>10002</td>\n",
              "      <td>17</td>\n",
              "      <td>16</td>\n",
              "      <td>148120.80</td>\n",
              "      <td>9257.550000</td>\n",
              "      <td>2250.0</td>\n",
              "      <td>34150.0</td>\n",
              "      <td>62220.80</td>\n",
              "      <td>59500.0</td>\n",
              "      <td>123</td>\n",
              "      <td>108</td>\n",
              "      <td>146011.70</td>\n",
              "      <td>1351.960185</td>\n",
              "      <td>17428</td>\n",
              "    </tr>\n",
              "    <tr>\n",
              "      <th>3</th>\n",
              "      <td>2006</td>\n",
              "      <td>10002</td>\n",
              "      <td>6</td>\n",
              "      <td>6</td>\n",
              "      <td>3001.12</td>\n",
              "      <td>500.186667</td>\n",
              "      <td>NaN</td>\n",
              "      <td>1150.0</td>\n",
              "      <td>1101.12</td>\n",
              "      <td>750.0</td>\n",
              "      <td>8</td>\n",
              "      <td>8</td>\n",
              "      <td>3001.12</td>\n",
              "      <td>375.140000</td>\n",
              "      <td>1193</td>\n",
              "    </tr>\n",
              "    <tr>\n",
              "      <th>4</th>\n",
              "      <td>2006</td>\n",
              "      <td>10003</td>\n",
              "      <td>48</td>\n",
              "      <td>48</td>\n",
              "      <td>NaN</td>\n",
              "      <td>NaN</td>\n",
              "      <td>NaN</td>\n",
              "      <td>50878.0</td>\n",
              "      <td>NaN</td>\n",
              "      <td>68942.0</td>\n",
              "      <td>133</td>\n",
              "      <td>120</td>\n",
              "      <td>116416.64</td>\n",
              "      <td>970.138667</td>\n",
              "      <td>29401</td>\n",
              "    </tr>\n",
              "  </tbody>\n",
              "</table>\n",
              "</div>\n",
              "      <button class=\"colab-df-convert\" onclick=\"convertToInteractive('df-b8f224c3-6aff-4bbb-b193-d676f798366c')\"\n",
              "              title=\"Convert this dataframe to an interactive table.\"\n",
              "              style=\"display:none;\">\n",
              "        \n",
              "  <svg xmlns=\"http://www.w3.org/2000/svg\" height=\"24px\"viewBox=\"0 0 24 24\"\n",
              "       width=\"24px\">\n",
              "    <path d=\"M0 0h24v24H0V0z\" fill=\"none\"/>\n",
              "    <path d=\"M18.56 5.44l.94 2.06.94-2.06 2.06-.94-2.06-.94-.94-2.06-.94 2.06-2.06.94zm-11 1L8.5 8.5l.94-2.06 2.06-.94-2.06-.94L8.5 2.5l-.94 2.06-2.06.94zm10 10l.94 2.06.94-2.06 2.06-.94-2.06-.94-.94-2.06-.94 2.06-2.06.94z\"/><path d=\"M17.41 7.96l-1.37-1.37c-.4-.4-.92-.59-1.43-.59-.52 0-1.04.2-1.43.59L10.3 9.45l-7.72 7.72c-.78.78-.78 2.05 0 2.83L4 21.41c.39.39.9.59 1.41.59.51 0 1.02-.2 1.41-.59l7.78-7.78 2.81-2.81c.8-.78.8-2.07 0-2.86zM5.41 20L4 18.59l7.72-7.72 1.47 1.35L5.41 20z\"/>\n",
              "  </svg>\n",
              "      </button>\n",
              "      \n",
              "  <style>\n",
              "    .colab-df-container {\n",
              "      display:flex;\n",
              "      flex-wrap:wrap;\n",
              "      gap: 12px;\n",
              "    }\n",
              "\n",
              "    .colab-df-convert {\n",
              "      background-color: #E8F0FE;\n",
              "      border: none;\n",
              "      border-radius: 50%;\n",
              "      cursor: pointer;\n",
              "      display: none;\n",
              "      fill: #1967D2;\n",
              "      height: 32px;\n",
              "      padding: 0 0 0 0;\n",
              "      width: 32px;\n",
              "    }\n",
              "\n",
              "    .colab-df-convert:hover {\n",
              "      background-color: #E2EBFA;\n",
              "      box-shadow: 0px 1px 2px rgba(60, 64, 67, 0.3), 0px 1px 3px 1px rgba(60, 64, 67, 0.15);\n",
              "      fill: #174EA6;\n",
              "    }\n",
              "\n",
              "    [theme=dark] .colab-df-convert {\n",
              "      background-color: #3B4455;\n",
              "      fill: #D2E3FC;\n",
              "    }\n",
              "\n",
              "    [theme=dark] .colab-df-convert:hover {\n",
              "      background-color: #434B5C;\n",
              "      box-shadow: 0px 1px 3px 1px rgba(0, 0, 0, 0.15);\n",
              "      filter: drop-shadow(0px 1px 2px rgba(0, 0, 0, 0.3));\n",
              "      fill: #FFFFFF;\n",
              "    }\n",
              "  </style>\n",
              "\n",
              "      <script>\n",
              "        const buttonEl =\n",
              "          document.querySelector('#df-b8f224c3-6aff-4bbb-b193-d676f798366c button.colab-df-convert');\n",
              "        buttonEl.style.display =\n",
              "          google.colab.kernel.accessAllowed ? 'block' : 'none';\n",
              "\n",
              "        async function convertToInteractive(key) {\n",
              "          const element = document.querySelector('#df-b8f224c3-6aff-4bbb-b193-d676f798366c');\n",
              "          const dataTable =\n",
              "            await google.colab.kernel.invokeFunction('convertToInteractive',\n",
              "                                                     [key], {});\n",
              "          if (!dataTable) return;\n",
              "\n",
              "          const docLinkHtml = 'Like what you see? Visit the ' +\n",
              "            '<a target=\"_blank\" href=https://colab.research.google.com/notebooks/data_table.ipynb>data table notebook</a>'\n",
              "            + ' to learn more about interactive tables.';\n",
              "          element.innerHTML = '';\n",
              "          dataTable['output_type'] = 'display_data';\n",
              "          await google.colab.output.renderOutput(dataTable, element);\n",
              "          const docLink = document.createElement('div');\n",
              "          docLink.innerHTML = docLinkHtml;\n",
              "          element.appendChild(docLink);\n",
              "        }\n",
              "      </script>\n",
              "    </div>\n",
              "  </div>\n",
              "  "
            ]
          },
          "metadata": {},
          "execution_count": 14
        }
      ]
    },
    {
      "cell_type": "markdown",
      "source": [
        "Valor após o log:"
      ],
      "metadata": {
        "id": "3aR9pbbYpO3k"
      }
    },
    {
      "cell_type": "code",
      "source": [
        "skewed_feats = skewed_feats.index\n",
        "\n",
        "df[skewed_feats] = np.log1p(df[skewed_feats])\n",
        "df[number_column_filter].head()"
      ],
      "metadata": {
        "colab": {
          "base_uri": "https://localhost:8080/",
          "height": 206
        },
        "id": "HstSy2_uo4yc",
        "outputId": "1483ad63-bb3f-4ac8-b9df-da48de45bb66"
      },
      "execution_count": 15,
      "outputs": [
        {
          "output_type": "execute_result",
          "data": {
            "text/plain": [
              "    ano  sq_candidato  qtd_doacoes  qtd_doadores  total_receita  \\\n",
              "0  2006         10001     1.945910      1.945910       9.717218   \n",
              "1  2006         10002     2.639057      2.639057      10.035699   \n",
              "2  2006         10002     2.890372      2.833213      11.905790   \n",
              "3  2006         10002     1.945910      1.945910       8.007074   \n",
              "4  2006         10003     3.891820      3.891820            NaN   \n",
              "\n",
              "   media_receita  recursos de outros candidatos/comitês  \\\n",
              "0       7.925760                                    NaN   \n",
              "1       7.471276                               8.798757   \n",
              "2       9.133303                               7.719130   \n",
              "3       6.216979                                    NaN   \n",
              "4            NaN                                    NaN   \n",
              "\n",
              "   recursos de pessoas físicas  recursos de pessoas jurídicas  \\\n",
              "0                     9.105091                       8.748464   \n",
              "1                     9.615872                       6.908755   \n",
              "2                    10.438547                      11.038461   \n",
              "3                     7.048386                       7.004991   \n",
              "4                    10.837206                            NaN   \n",
              "\n",
              "   recursos próprios  qtd_despesas  qtd_fornecedores  total_despesa  \\\n",
              "0           7.170888      2.708050          2.708050       9.716230   \n",
              "1           5.308268      3.218876          3.178054       9.919705   \n",
              "2          10.993748      4.820282          4.691348      11.891449   \n",
              "3           6.621406      2.197225          2.197225       8.007074   \n",
              "4          11.141035      4.897840          4.795791      11.664939   \n",
              "\n",
              "   media_despesa      votos  \n",
              "0       7.077956   9.057189  \n",
              "1       6.785292   7.922261  \n",
              "2       7.210050   9.765891  \n",
              "3       5.929961   7.085064  \n",
              "4       6.878469  10.288818  "
            ],
            "text/html": [
              "\n",
              "  <div id=\"df-4f6021a9-c809-4f3e-aebe-77c95c602103\">\n",
              "    <div class=\"colab-df-container\">\n",
              "      <div>\n",
              "<style scoped>\n",
              "    .dataframe tbody tr th:only-of-type {\n",
              "        vertical-align: middle;\n",
              "    }\n",
              "\n",
              "    .dataframe tbody tr th {\n",
              "        vertical-align: top;\n",
              "    }\n",
              "\n",
              "    .dataframe thead th {\n",
              "        text-align: right;\n",
              "    }\n",
              "</style>\n",
              "<table border=\"1\" class=\"dataframe\">\n",
              "  <thead>\n",
              "    <tr style=\"text-align: right;\">\n",
              "      <th></th>\n",
              "      <th>ano</th>\n",
              "      <th>sq_candidato</th>\n",
              "      <th>qtd_doacoes</th>\n",
              "      <th>qtd_doadores</th>\n",
              "      <th>total_receita</th>\n",
              "      <th>media_receita</th>\n",
              "      <th>recursos de outros candidatos/comitês</th>\n",
              "      <th>recursos de pessoas físicas</th>\n",
              "      <th>recursos de pessoas jurídicas</th>\n",
              "      <th>recursos próprios</th>\n",
              "      <th>qtd_despesas</th>\n",
              "      <th>qtd_fornecedores</th>\n",
              "      <th>total_despesa</th>\n",
              "      <th>media_despesa</th>\n",
              "      <th>votos</th>\n",
              "    </tr>\n",
              "  </thead>\n",
              "  <tbody>\n",
              "    <tr>\n",
              "      <th>0</th>\n",
              "      <td>2006</td>\n",
              "      <td>10001</td>\n",
              "      <td>1.945910</td>\n",
              "      <td>1.945910</td>\n",
              "      <td>9.717218</td>\n",
              "      <td>7.925760</td>\n",
              "      <td>NaN</td>\n",
              "      <td>9.105091</td>\n",
              "      <td>8.748464</td>\n",
              "      <td>7.170888</td>\n",
              "      <td>2.708050</td>\n",
              "      <td>2.708050</td>\n",
              "      <td>9.716230</td>\n",
              "      <td>7.077956</td>\n",
              "      <td>9.057189</td>\n",
              "    </tr>\n",
              "    <tr>\n",
              "      <th>1</th>\n",
              "      <td>2006</td>\n",
              "      <td>10002</td>\n",
              "      <td>2.639057</td>\n",
              "      <td>2.639057</td>\n",
              "      <td>10.035699</td>\n",
              "      <td>7.471276</td>\n",
              "      <td>8.798757</td>\n",
              "      <td>9.615872</td>\n",
              "      <td>6.908755</td>\n",
              "      <td>5.308268</td>\n",
              "      <td>3.218876</td>\n",
              "      <td>3.178054</td>\n",
              "      <td>9.919705</td>\n",
              "      <td>6.785292</td>\n",
              "      <td>7.922261</td>\n",
              "    </tr>\n",
              "    <tr>\n",
              "      <th>2</th>\n",
              "      <td>2006</td>\n",
              "      <td>10002</td>\n",
              "      <td>2.890372</td>\n",
              "      <td>2.833213</td>\n",
              "      <td>11.905790</td>\n",
              "      <td>9.133303</td>\n",
              "      <td>7.719130</td>\n",
              "      <td>10.438547</td>\n",
              "      <td>11.038461</td>\n",
              "      <td>10.993748</td>\n",
              "      <td>4.820282</td>\n",
              "      <td>4.691348</td>\n",
              "      <td>11.891449</td>\n",
              "      <td>7.210050</td>\n",
              "      <td>9.765891</td>\n",
              "    </tr>\n",
              "    <tr>\n",
              "      <th>3</th>\n",
              "      <td>2006</td>\n",
              "      <td>10002</td>\n",
              "      <td>1.945910</td>\n",
              "      <td>1.945910</td>\n",
              "      <td>8.007074</td>\n",
              "      <td>6.216979</td>\n",
              "      <td>NaN</td>\n",
              "      <td>7.048386</td>\n",
              "      <td>7.004991</td>\n",
              "      <td>6.621406</td>\n",
              "      <td>2.197225</td>\n",
              "      <td>2.197225</td>\n",
              "      <td>8.007074</td>\n",
              "      <td>5.929961</td>\n",
              "      <td>7.085064</td>\n",
              "    </tr>\n",
              "    <tr>\n",
              "      <th>4</th>\n",
              "      <td>2006</td>\n",
              "      <td>10003</td>\n",
              "      <td>3.891820</td>\n",
              "      <td>3.891820</td>\n",
              "      <td>NaN</td>\n",
              "      <td>NaN</td>\n",
              "      <td>NaN</td>\n",
              "      <td>10.837206</td>\n",
              "      <td>NaN</td>\n",
              "      <td>11.141035</td>\n",
              "      <td>4.897840</td>\n",
              "      <td>4.795791</td>\n",
              "      <td>11.664939</td>\n",
              "      <td>6.878469</td>\n",
              "      <td>10.288818</td>\n",
              "    </tr>\n",
              "  </tbody>\n",
              "</table>\n",
              "</div>\n",
              "      <button class=\"colab-df-convert\" onclick=\"convertToInteractive('df-4f6021a9-c809-4f3e-aebe-77c95c602103')\"\n",
              "              title=\"Convert this dataframe to an interactive table.\"\n",
              "              style=\"display:none;\">\n",
              "        \n",
              "  <svg xmlns=\"http://www.w3.org/2000/svg\" height=\"24px\"viewBox=\"0 0 24 24\"\n",
              "       width=\"24px\">\n",
              "    <path d=\"M0 0h24v24H0V0z\" fill=\"none\"/>\n",
              "    <path d=\"M18.56 5.44l.94 2.06.94-2.06 2.06-.94-2.06-.94-.94-2.06-.94 2.06-2.06.94zm-11 1L8.5 8.5l.94-2.06 2.06-.94-2.06-.94L8.5 2.5l-.94 2.06-2.06.94zm10 10l.94 2.06.94-2.06 2.06-.94-2.06-.94-.94-2.06-.94 2.06-2.06.94z\"/><path d=\"M17.41 7.96l-1.37-1.37c-.4-.4-.92-.59-1.43-.59-.52 0-1.04.2-1.43.59L10.3 9.45l-7.72 7.72c-.78.78-.78 2.05 0 2.83L4 21.41c.39.39.9.59 1.41.59.51 0 1.02-.2 1.41-.59l7.78-7.78 2.81-2.81c.8-.78.8-2.07 0-2.86zM5.41 20L4 18.59l7.72-7.72 1.47 1.35L5.41 20z\"/>\n",
              "  </svg>\n",
              "      </button>\n",
              "      \n",
              "  <style>\n",
              "    .colab-df-container {\n",
              "      display:flex;\n",
              "      flex-wrap:wrap;\n",
              "      gap: 12px;\n",
              "    }\n",
              "\n",
              "    .colab-df-convert {\n",
              "      background-color: #E8F0FE;\n",
              "      border: none;\n",
              "      border-radius: 50%;\n",
              "      cursor: pointer;\n",
              "      display: none;\n",
              "      fill: #1967D2;\n",
              "      height: 32px;\n",
              "      padding: 0 0 0 0;\n",
              "      width: 32px;\n",
              "    }\n",
              "\n",
              "    .colab-df-convert:hover {\n",
              "      background-color: #E2EBFA;\n",
              "      box-shadow: 0px 1px 2px rgba(60, 64, 67, 0.3), 0px 1px 3px 1px rgba(60, 64, 67, 0.15);\n",
              "      fill: #174EA6;\n",
              "    }\n",
              "\n",
              "    [theme=dark] .colab-df-convert {\n",
              "      background-color: #3B4455;\n",
              "      fill: #D2E3FC;\n",
              "    }\n",
              "\n",
              "    [theme=dark] .colab-df-convert:hover {\n",
              "      background-color: #434B5C;\n",
              "      box-shadow: 0px 1px 3px 1px rgba(0, 0, 0, 0.15);\n",
              "      filter: drop-shadow(0px 1px 2px rgba(0, 0, 0, 0.3));\n",
              "      fill: #FFFFFF;\n",
              "    }\n",
              "  </style>\n",
              "\n",
              "      <script>\n",
              "        const buttonEl =\n",
              "          document.querySelector('#df-4f6021a9-c809-4f3e-aebe-77c95c602103 button.colab-df-convert');\n",
              "        buttonEl.style.display =\n",
              "          google.colab.kernel.accessAllowed ? 'block' : 'none';\n",
              "\n",
              "        async function convertToInteractive(key) {\n",
              "          const element = document.querySelector('#df-4f6021a9-c809-4f3e-aebe-77c95c602103');\n",
              "          const dataTable =\n",
              "            await google.colab.kernel.invokeFunction('convertToInteractive',\n",
              "                                                     [key], {});\n",
              "          if (!dataTable) return;\n",
              "\n",
              "          const docLinkHtml = 'Like what you see? Visit the ' +\n",
              "            '<a target=\"_blank\" href=https://colab.research.google.com/notebooks/data_table.ipynb>data table notebook</a>'\n",
              "            + ' to learn more about interactive tables.';\n",
              "          element.innerHTML = '';\n",
              "          dataTable['output_type'] = 'display_data';\n",
              "          await google.colab.output.renderOutput(dataTable, element);\n",
              "          const docLink = document.createElement('div');\n",
              "          docLink.innerHTML = docLinkHtml;\n",
              "          element.appendChild(docLink);\n",
              "        }\n",
              "      </script>\n",
              "    </div>\n",
              "  </div>\n",
              "  "
            ]
          },
          "metadata": {},
          "execution_count": 15
        }
      ]
    },
    {
      "cell_type": "markdown",
      "source": [
        "# Ajustando valores nulos ou NaN"
      ],
      "metadata": {
        "id": "BiQcAqmBqjBI"
      }
    },
    {
      "cell_type": "markdown",
      "source": [
        "Agora vamos ajustar os valores NaN no dataframe. Para isso vamos preencher esses valores ausentes com a média de valor de cada registro."
      ],
      "metadata": {
        "id": "FUvaGstuqnVR"
      }
    },
    {
      "cell_type": "code",
      "source": [
        "df = df.fillna(df.mean())\n",
        "df.head()"
      ],
      "metadata": {
        "colab": {
          "base_uri": "https://localhost:8080/",
          "height": 418
        },
        "id": "IYMIzGiZrHF0",
        "outputId": "ca4309ba-6799-4725-d671-9fbdd5287278"
      },
      "execution_count": 16,
      "outputs": [
        {
          "output_type": "stream",
          "name": "stderr",
          "text": [
            "/usr/local/lib/python3.7/dist-packages/ipykernel_launcher.py:1: FutureWarning: Dropping of nuisance columns in DataFrame reductions (with 'numeric_only=None') is deprecated; in a future version this will raise TypeError.  Select only valid columns before calling the reduction.\n",
            "  \"\"\"Entry point for launching an IPython kernel.\n"
          ]
        },
        {
          "output_type": "execute_result",
          "data": {
            "text/plain": [
              "    ano  sq_candidato                             nome  uf partido  \\\n",
              "0  2006         10001      JOSÉ LUIZ NOGUEIRA DE SOUSA  AP      PT   \n",
              "1  2006         10002                LOIVA DE OLIVEIRA  RO      PT   \n",
              "2  2006         10002  MARIA DALVA DE SOUZA FIGUEIREDO  AP      PT   \n",
              "3  2006         10002                   ROMALDO MILANI  MS   PRONA   \n",
              "4  2006         10003           ANSELMO DE JESUS ABREU  RO      PT   \n",
              "\n",
              "   qtd_doacoes  qtd_doadores  total_receita  media_receita  \\\n",
              "0     1.945910      1.945910       9.717218       7.925760   \n",
              "1     2.639057      2.639057      10.035699       7.471276   \n",
              "2     2.890372      2.833213      11.905790       9.133303   \n",
              "3     1.945910      1.945910       8.007074       6.216979   \n",
              "4     3.891820      3.891820       9.670482       7.468538   \n",
              "\n",
              "   recursos de outros candidatos/comitês  ...  qtd_despesas  qtd_fornecedores  \\\n",
              "0                               8.370968  ...      2.708050          2.708050   \n",
              "1                               8.798757  ...      3.218876          3.178054   \n",
              "2                               7.719130  ...      4.820282          4.691348   \n",
              "3                               8.370968  ...      2.197225          2.197225   \n",
              "4                               8.370968  ...      4.897840          4.795791   \n",
              "\n",
              "   total_despesa  media_despesa             cargo       sexo  \\\n",
              "0       9.716230       7.077956  DEPUTADO FEDERAL  MASCULINO   \n",
              "1       9.919705       6.785292  DEPUTADO FEDERAL   FEMININO   \n",
              "2      11.891449       7.210050  DEPUTADO FEDERAL   FEMININO   \n",
              "3       8.007074       5.929961  DEPUTADO FEDERAL  MASCULINO   \n",
              "4      11.664939       6.878469  DEPUTADO FEDERAL  MASCULINO   \n",
              "\n",
              "                grau_instrucao estado_civil                   ocupacao  \\\n",
              "0        ENSINO MÉDIO COMPLETO    CASADO(A)                   VEREADOR   \n",
              "1            SUPERIOR COMPLETO  SOLTEIRO(A)  SERVIDOR PÚBLICO ESTADUAL   \n",
              "2            SUPERIOR COMPLETO     VIÚVO(A)                   PEDAGOGO   \n",
              "3      ENSINO MÉDIO INCOMPLETO    CASADO(A)          MILITAR REFORMADO   \n",
              "4  ENSINO FUNDAMENTAL COMPLETO    CASADO(A)                   DEPUTADO   \n",
              "\n",
              "       votos  \n",
              "0   9.057189  \n",
              "1   7.922261  \n",
              "2   9.765891  \n",
              "3   7.085064  \n",
              "4  10.288818  \n",
              "\n",
              "[5 rows x 23 columns]"
            ],
            "text/html": [
              "\n",
              "  <div id=\"df-75ced2b3-68de-499f-8a74-ccc97f5acdde\">\n",
              "    <div class=\"colab-df-container\">\n",
              "      <div>\n",
              "<style scoped>\n",
              "    .dataframe tbody tr th:only-of-type {\n",
              "        vertical-align: middle;\n",
              "    }\n",
              "\n",
              "    .dataframe tbody tr th {\n",
              "        vertical-align: top;\n",
              "    }\n",
              "\n",
              "    .dataframe thead th {\n",
              "        text-align: right;\n",
              "    }\n",
              "</style>\n",
              "<table border=\"1\" class=\"dataframe\">\n",
              "  <thead>\n",
              "    <tr style=\"text-align: right;\">\n",
              "      <th></th>\n",
              "      <th>ano</th>\n",
              "      <th>sq_candidato</th>\n",
              "      <th>nome</th>\n",
              "      <th>uf</th>\n",
              "      <th>partido</th>\n",
              "      <th>qtd_doacoes</th>\n",
              "      <th>qtd_doadores</th>\n",
              "      <th>total_receita</th>\n",
              "      <th>media_receita</th>\n",
              "      <th>recursos de outros candidatos/comitês</th>\n",
              "      <th>...</th>\n",
              "      <th>qtd_despesas</th>\n",
              "      <th>qtd_fornecedores</th>\n",
              "      <th>total_despesa</th>\n",
              "      <th>media_despesa</th>\n",
              "      <th>cargo</th>\n",
              "      <th>sexo</th>\n",
              "      <th>grau_instrucao</th>\n",
              "      <th>estado_civil</th>\n",
              "      <th>ocupacao</th>\n",
              "      <th>votos</th>\n",
              "    </tr>\n",
              "  </thead>\n",
              "  <tbody>\n",
              "    <tr>\n",
              "      <th>0</th>\n",
              "      <td>2006</td>\n",
              "      <td>10001</td>\n",
              "      <td>JOSÉ LUIZ NOGUEIRA DE SOUSA</td>\n",
              "      <td>AP</td>\n",
              "      <td>PT</td>\n",
              "      <td>1.945910</td>\n",
              "      <td>1.945910</td>\n",
              "      <td>9.717218</td>\n",
              "      <td>7.925760</td>\n",
              "      <td>8.370968</td>\n",
              "      <td>...</td>\n",
              "      <td>2.708050</td>\n",
              "      <td>2.708050</td>\n",
              "      <td>9.716230</td>\n",
              "      <td>7.077956</td>\n",
              "      <td>DEPUTADO FEDERAL</td>\n",
              "      <td>MASCULINO</td>\n",
              "      <td>ENSINO MÉDIO COMPLETO</td>\n",
              "      <td>CASADO(A)</td>\n",
              "      <td>VEREADOR</td>\n",
              "      <td>9.057189</td>\n",
              "    </tr>\n",
              "    <tr>\n",
              "      <th>1</th>\n",
              "      <td>2006</td>\n",
              "      <td>10002</td>\n",
              "      <td>LOIVA DE OLIVEIRA</td>\n",
              "      <td>RO</td>\n",
              "      <td>PT</td>\n",
              "      <td>2.639057</td>\n",
              "      <td>2.639057</td>\n",
              "      <td>10.035699</td>\n",
              "      <td>7.471276</td>\n",
              "      <td>8.798757</td>\n",
              "      <td>...</td>\n",
              "      <td>3.218876</td>\n",
              "      <td>3.178054</td>\n",
              "      <td>9.919705</td>\n",
              "      <td>6.785292</td>\n",
              "      <td>DEPUTADO FEDERAL</td>\n",
              "      <td>FEMININO</td>\n",
              "      <td>SUPERIOR COMPLETO</td>\n",
              "      <td>SOLTEIRO(A)</td>\n",
              "      <td>SERVIDOR PÚBLICO ESTADUAL</td>\n",
              "      <td>7.922261</td>\n",
              "    </tr>\n",
              "    <tr>\n",
              "      <th>2</th>\n",
              "      <td>2006</td>\n",
              "      <td>10002</td>\n",
              "      <td>MARIA DALVA DE SOUZA FIGUEIREDO</td>\n",
              "      <td>AP</td>\n",
              "      <td>PT</td>\n",
              "      <td>2.890372</td>\n",
              "      <td>2.833213</td>\n",
              "      <td>11.905790</td>\n",
              "      <td>9.133303</td>\n",
              "      <td>7.719130</td>\n",
              "      <td>...</td>\n",
              "      <td>4.820282</td>\n",
              "      <td>4.691348</td>\n",
              "      <td>11.891449</td>\n",
              "      <td>7.210050</td>\n",
              "      <td>DEPUTADO FEDERAL</td>\n",
              "      <td>FEMININO</td>\n",
              "      <td>SUPERIOR COMPLETO</td>\n",
              "      <td>VIÚVO(A)</td>\n",
              "      <td>PEDAGOGO</td>\n",
              "      <td>9.765891</td>\n",
              "    </tr>\n",
              "    <tr>\n",
              "      <th>3</th>\n",
              "      <td>2006</td>\n",
              "      <td>10002</td>\n",
              "      <td>ROMALDO MILANI</td>\n",
              "      <td>MS</td>\n",
              "      <td>PRONA</td>\n",
              "      <td>1.945910</td>\n",
              "      <td>1.945910</td>\n",
              "      <td>8.007074</td>\n",
              "      <td>6.216979</td>\n",
              "      <td>8.370968</td>\n",
              "      <td>...</td>\n",
              "      <td>2.197225</td>\n",
              "      <td>2.197225</td>\n",
              "      <td>8.007074</td>\n",
              "      <td>5.929961</td>\n",
              "      <td>DEPUTADO FEDERAL</td>\n",
              "      <td>MASCULINO</td>\n",
              "      <td>ENSINO MÉDIO INCOMPLETO</td>\n",
              "      <td>CASADO(A)</td>\n",
              "      <td>MILITAR REFORMADO</td>\n",
              "      <td>7.085064</td>\n",
              "    </tr>\n",
              "    <tr>\n",
              "      <th>4</th>\n",
              "      <td>2006</td>\n",
              "      <td>10003</td>\n",
              "      <td>ANSELMO DE JESUS ABREU</td>\n",
              "      <td>RO</td>\n",
              "      <td>PT</td>\n",
              "      <td>3.891820</td>\n",
              "      <td>3.891820</td>\n",
              "      <td>9.670482</td>\n",
              "      <td>7.468538</td>\n",
              "      <td>8.370968</td>\n",
              "      <td>...</td>\n",
              "      <td>4.897840</td>\n",
              "      <td>4.795791</td>\n",
              "      <td>11.664939</td>\n",
              "      <td>6.878469</td>\n",
              "      <td>DEPUTADO FEDERAL</td>\n",
              "      <td>MASCULINO</td>\n",
              "      <td>ENSINO FUNDAMENTAL COMPLETO</td>\n",
              "      <td>CASADO(A)</td>\n",
              "      <td>DEPUTADO</td>\n",
              "      <td>10.288818</td>\n",
              "    </tr>\n",
              "  </tbody>\n",
              "</table>\n",
              "<p>5 rows × 23 columns</p>\n",
              "</div>\n",
              "      <button class=\"colab-df-convert\" onclick=\"convertToInteractive('df-75ced2b3-68de-499f-8a74-ccc97f5acdde')\"\n",
              "              title=\"Convert this dataframe to an interactive table.\"\n",
              "              style=\"display:none;\">\n",
              "        \n",
              "  <svg xmlns=\"http://www.w3.org/2000/svg\" height=\"24px\"viewBox=\"0 0 24 24\"\n",
              "       width=\"24px\">\n",
              "    <path d=\"M0 0h24v24H0V0z\" fill=\"none\"/>\n",
              "    <path d=\"M18.56 5.44l.94 2.06.94-2.06 2.06-.94-2.06-.94-.94-2.06-.94 2.06-2.06.94zm-11 1L8.5 8.5l.94-2.06 2.06-.94-2.06-.94L8.5 2.5l-.94 2.06-2.06.94zm10 10l.94 2.06.94-2.06 2.06-.94-2.06-.94-.94-2.06-.94 2.06-2.06.94z\"/><path d=\"M17.41 7.96l-1.37-1.37c-.4-.4-.92-.59-1.43-.59-.52 0-1.04.2-1.43.59L10.3 9.45l-7.72 7.72c-.78.78-.78 2.05 0 2.83L4 21.41c.39.39.9.59 1.41.59.51 0 1.02-.2 1.41-.59l7.78-7.78 2.81-2.81c.8-.78.8-2.07 0-2.86zM5.41 20L4 18.59l7.72-7.72 1.47 1.35L5.41 20z\"/>\n",
              "  </svg>\n",
              "      </button>\n",
              "      \n",
              "  <style>\n",
              "    .colab-df-container {\n",
              "      display:flex;\n",
              "      flex-wrap:wrap;\n",
              "      gap: 12px;\n",
              "    }\n",
              "\n",
              "    .colab-df-convert {\n",
              "      background-color: #E8F0FE;\n",
              "      border: none;\n",
              "      border-radius: 50%;\n",
              "      cursor: pointer;\n",
              "      display: none;\n",
              "      fill: #1967D2;\n",
              "      height: 32px;\n",
              "      padding: 0 0 0 0;\n",
              "      width: 32px;\n",
              "    }\n",
              "\n",
              "    .colab-df-convert:hover {\n",
              "      background-color: #E2EBFA;\n",
              "      box-shadow: 0px 1px 2px rgba(60, 64, 67, 0.3), 0px 1px 3px 1px rgba(60, 64, 67, 0.15);\n",
              "      fill: #174EA6;\n",
              "    }\n",
              "\n",
              "    [theme=dark] .colab-df-convert {\n",
              "      background-color: #3B4455;\n",
              "      fill: #D2E3FC;\n",
              "    }\n",
              "\n",
              "    [theme=dark] .colab-df-convert:hover {\n",
              "      background-color: #434B5C;\n",
              "      box-shadow: 0px 1px 3px 1px rgba(0, 0, 0, 0.15);\n",
              "      filter: drop-shadow(0px 1px 2px rgba(0, 0, 0, 0.3));\n",
              "      fill: #FFFFFF;\n",
              "    }\n",
              "  </style>\n",
              "\n",
              "      <script>\n",
              "        const buttonEl =\n",
              "          document.querySelector('#df-75ced2b3-68de-499f-8a74-ccc97f5acdde button.colab-df-convert');\n",
              "        buttonEl.style.display =\n",
              "          google.colab.kernel.accessAllowed ? 'block' : 'none';\n",
              "\n",
              "        async function convertToInteractive(key) {\n",
              "          const element = document.querySelector('#df-75ced2b3-68de-499f-8a74-ccc97f5acdde');\n",
              "          const dataTable =\n",
              "            await google.colab.kernel.invokeFunction('convertToInteractive',\n",
              "                                                     [key], {});\n",
              "          if (!dataTable) return;\n",
              "\n",
              "          const docLinkHtml = 'Like what you see? Visit the ' +\n",
              "            '<a target=\"_blank\" href=https://colab.research.google.com/notebooks/data_table.ipynb>data table notebook</a>'\n",
              "            + ' to learn more about interactive tables.';\n",
              "          element.innerHTML = '';\n",
              "          dataTable['output_type'] = 'display_data';\n",
              "          await google.colab.output.renderOutput(dataTable, element);\n",
              "          const docLink = document.createElement('div');\n",
              "          docLink.innerHTML = docLinkHtml;\n",
              "          element.appendChild(docLink);\n",
              "        }\n",
              "      </script>\n",
              "    </div>\n",
              "  </div>\n",
              "  "
            ]
          },
          "metadata": {},
          "execution_count": 16
        }
      ]
    },
    {
      "cell_type": "markdown",
      "source": [
        "# Ajustando variáveis categóricas"
      ],
      "metadata": {
        "id": "IEGLtHuCpu4O"
      }
    },
    {
      "cell_type": "markdown",
      "source": [
        "Além de aplicar o log e tirar os valores NaN, precisamos organizar as variáveis categóricas, pois elas estão em forma de string. Nesse caso vamos utilizar uma função da biblioteca Pandas para transformar esse valores.\n",
        "\n",
        "Os valores serão preenchidos com valores 0 e 1 quando o determinado valor não ocorre e ocorre respectivamente."
      ],
      "metadata": {
        "id": "8pCuBFvupzD9"
      }
    },
    {
      "cell_type": "code",
      "source": [
        "df = pd.get_dummies(df)\n",
        "df.head()"
      ],
      "metadata": {
        "colab": {
          "base_uri": "https://localhost:8080/",
          "height": 369
        },
        "id": "eoYpq83_qV06",
        "outputId": "8d688595-e5c1-4625-918c-6228bd1fdcd7"
      },
      "execution_count": 17,
      "outputs": [
        {
          "output_type": "execute_result",
          "data": {
            "text/plain": [
              "    ano  sq_candidato  qtd_doacoes  qtd_doadores  total_receita  \\\n",
              "0  2006         10001     1.945910      1.945910       9.717218   \n",
              "1  2006         10002     2.639057      2.639057      10.035699   \n",
              "2  2006         10002     2.890372      2.833213      11.905790   \n",
              "3  2006         10002     1.945910      1.945910       8.007074   \n",
              "4  2006         10003     3.891820      3.891820       9.670482   \n",
              "\n",
              "   media_receita  recursos de outros candidatos/comitês  \\\n",
              "0       7.925760                               8.370968   \n",
              "1       7.471276                               8.798757   \n",
              "2       9.133303                               7.719130   \n",
              "3       6.216979                               8.370968   \n",
              "4       7.468538                               8.370968   \n",
              "\n",
              "   recursos de pessoas físicas  recursos de pessoas jurídicas  \\\n",
              "0                     9.105091                       8.748464   \n",
              "1                     9.615872                       6.908755   \n",
              "2                    10.438547                      11.038461   \n",
              "3                     7.048386                       7.004991   \n",
              "4                    10.837206                      10.021113   \n",
              "\n",
              "   recursos próprios  ...  ocupacao_TÉCNICO DE QUÍMICA  \\\n",
              "0           7.170888  ...                            0   \n",
              "1           5.308268  ...                            0   \n",
              "2          10.993748  ...                            0   \n",
              "3           6.621406  ...                            0   \n",
              "4          11.141035  ...                            0   \n",
              "\n",
              "   ocupacao_TÉCNICO EM AGRONOMIA E AGRIMENSURA  \\\n",
              "0                                            0   \n",
              "1                                            0   \n",
              "2                                            0   \n",
              "3                                            0   \n",
              "4                                            0   \n",
              "\n",
              "   ocupacao_TÉCNICO EM EDIFICAÇÕES  ocupacao_TÉCNICO EM INFORMÁTICA  \\\n",
              "0                                0                                0   \n",
              "1                                0                                0   \n",
              "2                                0                                0   \n",
              "3                                0                                0   \n",
              "4                                0                                0   \n",
              "\n",
              "   ocupacao_VENDEDOR DE COMÉRCIO VAREJISTA E ATACADISTA  \\\n",
              "0                                                  0      \n",
              "1                                                  0      \n",
              "2                                                  0      \n",
              "3                                                  0      \n",
              "4                                                  0      \n",
              "\n",
              "   ocupacao_VENDEDOR PRACISTA, REPRESENTANTE, CAIXEIRO-VIAJANTE E ASSEMELHADOS  \\\n",
              "0                                                  0                             \n",
              "1                                                  0                             \n",
              "2                                                  0                             \n",
              "3                                                  0                             \n",
              "4                                                  0                             \n",
              "\n",
              "   ocupacao_VEREADOR  ocupacao_VETERINÁRIO  ocupacao_VIGILANTE  \\\n",
              "0                  1                     0                   0   \n",
              "1                  0                     0                   0   \n",
              "2                  0                     0                   0   \n",
              "3                  0                     0                   0   \n",
              "4                  0                     0                   0   \n",
              "\n",
              "   ocupacao_ZOOTECNISTA  \n",
              "0                     0  \n",
              "1                     0  \n",
              "2                     0  \n",
              "3                     0  \n",
              "4                     0  \n",
              "\n",
              "[5 rows x 11208 columns]"
            ],
            "text/html": [
              "\n",
              "  <div id=\"df-4db3921b-2470-42f0-ab67-3604d6ce6e7c\">\n",
              "    <div class=\"colab-df-container\">\n",
              "      <div>\n",
              "<style scoped>\n",
              "    .dataframe tbody tr th:only-of-type {\n",
              "        vertical-align: middle;\n",
              "    }\n",
              "\n",
              "    .dataframe tbody tr th {\n",
              "        vertical-align: top;\n",
              "    }\n",
              "\n",
              "    .dataframe thead th {\n",
              "        text-align: right;\n",
              "    }\n",
              "</style>\n",
              "<table border=\"1\" class=\"dataframe\">\n",
              "  <thead>\n",
              "    <tr style=\"text-align: right;\">\n",
              "      <th></th>\n",
              "      <th>ano</th>\n",
              "      <th>sq_candidato</th>\n",
              "      <th>qtd_doacoes</th>\n",
              "      <th>qtd_doadores</th>\n",
              "      <th>total_receita</th>\n",
              "      <th>media_receita</th>\n",
              "      <th>recursos de outros candidatos/comitês</th>\n",
              "      <th>recursos de pessoas físicas</th>\n",
              "      <th>recursos de pessoas jurídicas</th>\n",
              "      <th>recursos próprios</th>\n",
              "      <th>...</th>\n",
              "      <th>ocupacao_TÉCNICO DE QUÍMICA</th>\n",
              "      <th>ocupacao_TÉCNICO EM AGRONOMIA E AGRIMENSURA</th>\n",
              "      <th>ocupacao_TÉCNICO EM EDIFICAÇÕES</th>\n",
              "      <th>ocupacao_TÉCNICO EM INFORMÁTICA</th>\n",
              "      <th>ocupacao_VENDEDOR DE COMÉRCIO VAREJISTA E ATACADISTA</th>\n",
              "      <th>ocupacao_VENDEDOR PRACISTA, REPRESENTANTE, CAIXEIRO-VIAJANTE E ASSEMELHADOS</th>\n",
              "      <th>ocupacao_VEREADOR</th>\n",
              "      <th>ocupacao_VETERINÁRIO</th>\n",
              "      <th>ocupacao_VIGILANTE</th>\n",
              "      <th>ocupacao_ZOOTECNISTA</th>\n",
              "    </tr>\n",
              "  </thead>\n",
              "  <tbody>\n",
              "    <tr>\n",
              "      <th>0</th>\n",
              "      <td>2006</td>\n",
              "      <td>10001</td>\n",
              "      <td>1.945910</td>\n",
              "      <td>1.945910</td>\n",
              "      <td>9.717218</td>\n",
              "      <td>7.925760</td>\n",
              "      <td>8.370968</td>\n",
              "      <td>9.105091</td>\n",
              "      <td>8.748464</td>\n",
              "      <td>7.170888</td>\n",
              "      <td>...</td>\n",
              "      <td>0</td>\n",
              "      <td>0</td>\n",
              "      <td>0</td>\n",
              "      <td>0</td>\n",
              "      <td>0</td>\n",
              "      <td>0</td>\n",
              "      <td>1</td>\n",
              "      <td>0</td>\n",
              "      <td>0</td>\n",
              "      <td>0</td>\n",
              "    </tr>\n",
              "    <tr>\n",
              "      <th>1</th>\n",
              "      <td>2006</td>\n",
              "      <td>10002</td>\n",
              "      <td>2.639057</td>\n",
              "      <td>2.639057</td>\n",
              "      <td>10.035699</td>\n",
              "      <td>7.471276</td>\n",
              "      <td>8.798757</td>\n",
              "      <td>9.615872</td>\n",
              "      <td>6.908755</td>\n",
              "      <td>5.308268</td>\n",
              "      <td>...</td>\n",
              "      <td>0</td>\n",
              "      <td>0</td>\n",
              "      <td>0</td>\n",
              "      <td>0</td>\n",
              "      <td>0</td>\n",
              "      <td>0</td>\n",
              "      <td>0</td>\n",
              "      <td>0</td>\n",
              "      <td>0</td>\n",
              "      <td>0</td>\n",
              "    </tr>\n",
              "    <tr>\n",
              "      <th>2</th>\n",
              "      <td>2006</td>\n",
              "      <td>10002</td>\n",
              "      <td>2.890372</td>\n",
              "      <td>2.833213</td>\n",
              "      <td>11.905790</td>\n",
              "      <td>9.133303</td>\n",
              "      <td>7.719130</td>\n",
              "      <td>10.438547</td>\n",
              "      <td>11.038461</td>\n",
              "      <td>10.993748</td>\n",
              "      <td>...</td>\n",
              "      <td>0</td>\n",
              "      <td>0</td>\n",
              "      <td>0</td>\n",
              "      <td>0</td>\n",
              "      <td>0</td>\n",
              "      <td>0</td>\n",
              "      <td>0</td>\n",
              "      <td>0</td>\n",
              "      <td>0</td>\n",
              "      <td>0</td>\n",
              "    </tr>\n",
              "    <tr>\n",
              "      <th>3</th>\n",
              "      <td>2006</td>\n",
              "      <td>10002</td>\n",
              "      <td>1.945910</td>\n",
              "      <td>1.945910</td>\n",
              "      <td>8.007074</td>\n",
              "      <td>6.216979</td>\n",
              "      <td>8.370968</td>\n",
              "      <td>7.048386</td>\n",
              "      <td>7.004991</td>\n",
              "      <td>6.621406</td>\n",
              "      <td>...</td>\n",
              "      <td>0</td>\n",
              "      <td>0</td>\n",
              "      <td>0</td>\n",
              "      <td>0</td>\n",
              "      <td>0</td>\n",
              "      <td>0</td>\n",
              "      <td>0</td>\n",
              "      <td>0</td>\n",
              "      <td>0</td>\n",
              "      <td>0</td>\n",
              "    </tr>\n",
              "    <tr>\n",
              "      <th>4</th>\n",
              "      <td>2006</td>\n",
              "      <td>10003</td>\n",
              "      <td>3.891820</td>\n",
              "      <td>3.891820</td>\n",
              "      <td>9.670482</td>\n",
              "      <td>7.468538</td>\n",
              "      <td>8.370968</td>\n",
              "      <td>10.837206</td>\n",
              "      <td>10.021113</td>\n",
              "      <td>11.141035</td>\n",
              "      <td>...</td>\n",
              "      <td>0</td>\n",
              "      <td>0</td>\n",
              "      <td>0</td>\n",
              "      <td>0</td>\n",
              "      <td>0</td>\n",
              "      <td>0</td>\n",
              "      <td>0</td>\n",
              "      <td>0</td>\n",
              "      <td>0</td>\n",
              "      <td>0</td>\n",
              "    </tr>\n",
              "  </tbody>\n",
              "</table>\n",
              "<p>5 rows × 11208 columns</p>\n",
              "</div>\n",
              "      <button class=\"colab-df-convert\" onclick=\"convertToInteractive('df-4db3921b-2470-42f0-ab67-3604d6ce6e7c')\"\n",
              "              title=\"Convert this dataframe to an interactive table.\"\n",
              "              style=\"display:none;\">\n",
              "        \n",
              "  <svg xmlns=\"http://www.w3.org/2000/svg\" height=\"24px\"viewBox=\"0 0 24 24\"\n",
              "       width=\"24px\">\n",
              "    <path d=\"M0 0h24v24H0V0z\" fill=\"none\"/>\n",
              "    <path d=\"M18.56 5.44l.94 2.06.94-2.06 2.06-.94-2.06-.94-.94-2.06-.94 2.06-2.06.94zm-11 1L8.5 8.5l.94-2.06 2.06-.94-2.06-.94L8.5 2.5l-.94 2.06-2.06.94zm10 10l.94 2.06.94-2.06 2.06-.94-2.06-.94-.94-2.06-.94 2.06-2.06.94z\"/><path d=\"M17.41 7.96l-1.37-1.37c-.4-.4-.92-.59-1.43-.59-.52 0-1.04.2-1.43.59L10.3 9.45l-7.72 7.72c-.78.78-.78 2.05 0 2.83L4 21.41c.39.39.9.59 1.41.59.51 0 1.02-.2 1.41-.59l7.78-7.78 2.81-2.81c.8-.78.8-2.07 0-2.86zM5.41 20L4 18.59l7.72-7.72 1.47 1.35L5.41 20z\"/>\n",
              "  </svg>\n",
              "      </button>\n",
              "      \n",
              "  <style>\n",
              "    .colab-df-container {\n",
              "      display:flex;\n",
              "      flex-wrap:wrap;\n",
              "      gap: 12px;\n",
              "    }\n",
              "\n",
              "    .colab-df-convert {\n",
              "      background-color: #E8F0FE;\n",
              "      border: none;\n",
              "      border-radius: 50%;\n",
              "      cursor: pointer;\n",
              "      display: none;\n",
              "      fill: #1967D2;\n",
              "      height: 32px;\n",
              "      padding: 0 0 0 0;\n",
              "      width: 32px;\n",
              "    }\n",
              "\n",
              "    .colab-df-convert:hover {\n",
              "      background-color: #E2EBFA;\n",
              "      box-shadow: 0px 1px 2px rgba(60, 64, 67, 0.3), 0px 1px 3px 1px rgba(60, 64, 67, 0.15);\n",
              "      fill: #174EA6;\n",
              "    }\n",
              "\n",
              "    [theme=dark] .colab-df-convert {\n",
              "      background-color: #3B4455;\n",
              "      fill: #D2E3FC;\n",
              "    }\n",
              "\n",
              "    [theme=dark] .colab-df-convert:hover {\n",
              "      background-color: #434B5C;\n",
              "      box-shadow: 0px 1px 3px 1px rgba(0, 0, 0, 0.15);\n",
              "      filter: drop-shadow(0px 1px 2px rgba(0, 0, 0, 0.3));\n",
              "      fill: #FFFFFF;\n",
              "    }\n",
              "  </style>\n",
              "\n",
              "      <script>\n",
              "        const buttonEl =\n",
              "          document.querySelector('#df-4db3921b-2470-42f0-ab67-3604d6ce6e7c button.colab-df-convert');\n",
              "        buttonEl.style.display =\n",
              "          google.colab.kernel.accessAllowed ? 'block' : 'none';\n",
              "\n",
              "        async function convertToInteractive(key) {\n",
              "          const element = document.querySelector('#df-4db3921b-2470-42f0-ab67-3604d6ce6e7c');\n",
              "          const dataTable =\n",
              "            await google.colab.kernel.invokeFunction('convertToInteractive',\n",
              "                                                     [key], {});\n",
              "          if (!dataTable) return;\n",
              "\n",
              "          const docLinkHtml = 'Like what you see? Visit the ' +\n",
              "            '<a target=\"_blank\" href=https://colab.research.google.com/notebooks/data_table.ipynb>data table notebook</a>'\n",
              "            + ' to learn more about interactive tables.';\n",
              "          element.innerHTML = '';\n",
              "          dataTable['output_type'] = 'display_data';\n",
              "          await google.colab.output.renderOutput(dataTable, element);\n",
              "          const docLink = document.createElement('div');\n",
              "          docLink.innerHTML = docLinkHtml;\n",
              "          element.appendChild(docLink);\n",
              "        }\n",
              "      </script>\n",
              "    </div>\n",
              "  </div>\n",
              "  "
            ]
          },
          "metadata": {},
          "execution_count": 17
        }
      ]
    },
    {
      "cell_type": "markdown",
      "source": [
        "# Dados de treino e teste"
      ],
      "metadata": {
        "id": "A2T99eoaPxW_"
      }
    },
    {
      "cell_type": "markdown",
      "source": [
        "Antes de separarmos, vamos eliminar a coluna 'sequencial_candidato', pois ela representa apenas o id no dataset, acredito que não será relevante para o modelo essa informação"
      ],
      "metadata": {
        "id": "NCXKyb15RD2U"
      }
    },
    {
      "cell_type": "code",
      "source": [
        "df = df.drop(['sq_candidato'], axis=1)"
      ],
      "metadata": {
        "id": "LbV8Fnf1RQmu"
      },
      "execution_count": 18,
      "outputs": []
    },
    {
      "cell_type": "markdown",
      "source": [
        "Vamos ver como o modelo se comporta apenas com os dados de 2006 e 2010 inicialmente. Depois de verificar o modelo com esses dados, vamos ao final utilizar os dados de 2014 para verificar a eficácia de cada modelo construído.\n",
        "\n",
        "Inicialmente vamos aplicar a técnica Holdout para os dados de 2006 e 2010 juntos. Utilizaremos 80% para treino e 20% para teste. Os dados serão escolhidos aleatoriamente."
      ],
      "metadata": {
        "id": "FUlB0kxHfSlN"
      }
    },
    {
      "cell_type": "code",
      "source": [
        "df_2006 = df[df.ano == 2006]\n",
        "df_2010 = df[df.ano == 2010]\n",
        "\n",
        "df_2006_2010_processado = df_2006.append(df_2010)\n",
        "\n",
        "df_2006_2010_processado.head()"
      ],
      "metadata": {
        "id": "bN1uT9S0QSKS",
        "colab": {
          "base_uri": "https://localhost:8080/",
          "height": 369
        },
        "outputId": "5f568352-f96c-455b-d494-c84dca168d73"
      },
      "execution_count": 19,
      "outputs": [
        {
          "output_type": "execute_result",
          "data": {
            "text/plain": [
              "    ano  qtd_doacoes  qtd_doadores  total_receita  media_receita  \\\n",
              "0  2006     1.945910      1.945910       9.717218       7.925760   \n",
              "1  2006     2.639057      2.639057      10.035699       7.471276   \n",
              "2  2006     2.890372      2.833213      11.905790       9.133303   \n",
              "3  2006     1.945910      1.945910       8.007074       6.216979   \n",
              "4  2006     3.891820      3.891820       9.670482       7.468538   \n",
              "\n",
              "   recursos de outros candidatos/comitês  recursos de pessoas físicas  \\\n",
              "0                               8.370968                     9.105091   \n",
              "1                               8.798757                     9.615872   \n",
              "2                               7.719130                    10.438547   \n",
              "3                               8.370968                     7.048386   \n",
              "4                               8.370968                    10.837206   \n",
              "\n",
              "   recursos de pessoas jurídicas  recursos próprios  qtd_despesas  ...  \\\n",
              "0                       8.748464           7.170888      2.708050  ...   \n",
              "1                       6.908755           5.308268      3.218876  ...   \n",
              "2                      11.038461          10.993748      4.820282  ...   \n",
              "3                       7.004991           6.621406      2.197225  ...   \n",
              "4                      10.021113          11.141035      4.897840  ...   \n",
              "\n",
              "   ocupacao_TÉCNICO DE QUÍMICA  ocupacao_TÉCNICO EM AGRONOMIA E AGRIMENSURA  \\\n",
              "0                            0                                            0   \n",
              "1                            0                                            0   \n",
              "2                            0                                            0   \n",
              "3                            0                                            0   \n",
              "4                            0                                            0   \n",
              "\n",
              "   ocupacao_TÉCNICO EM EDIFICAÇÕES  ocupacao_TÉCNICO EM INFORMÁTICA  \\\n",
              "0                                0                                0   \n",
              "1                                0                                0   \n",
              "2                                0                                0   \n",
              "3                                0                                0   \n",
              "4                                0                                0   \n",
              "\n",
              "   ocupacao_VENDEDOR DE COMÉRCIO VAREJISTA E ATACADISTA  \\\n",
              "0                                                  0      \n",
              "1                                                  0      \n",
              "2                                                  0      \n",
              "3                                                  0      \n",
              "4                                                  0      \n",
              "\n",
              "   ocupacao_VENDEDOR PRACISTA, REPRESENTANTE, CAIXEIRO-VIAJANTE E ASSEMELHADOS  \\\n",
              "0                                                  0                             \n",
              "1                                                  0                             \n",
              "2                                                  0                             \n",
              "3                                                  0                             \n",
              "4                                                  0                             \n",
              "\n",
              "   ocupacao_VEREADOR  ocupacao_VETERINÁRIO  ocupacao_VIGILANTE  \\\n",
              "0                  1                     0                   0   \n",
              "1                  0                     0                   0   \n",
              "2                  0                     0                   0   \n",
              "3                  0                     0                   0   \n",
              "4                  0                     0                   0   \n",
              "\n",
              "   ocupacao_ZOOTECNISTA  \n",
              "0                     0  \n",
              "1                     0  \n",
              "2                     0  \n",
              "3                     0  \n",
              "4                     0  \n",
              "\n",
              "[5 rows x 11207 columns]"
            ],
            "text/html": [
              "\n",
              "  <div id=\"df-cf2d84ba-b25d-492b-999c-aac7147124b4\">\n",
              "    <div class=\"colab-df-container\">\n",
              "      <div>\n",
              "<style scoped>\n",
              "    .dataframe tbody tr th:only-of-type {\n",
              "        vertical-align: middle;\n",
              "    }\n",
              "\n",
              "    .dataframe tbody tr th {\n",
              "        vertical-align: top;\n",
              "    }\n",
              "\n",
              "    .dataframe thead th {\n",
              "        text-align: right;\n",
              "    }\n",
              "</style>\n",
              "<table border=\"1\" class=\"dataframe\">\n",
              "  <thead>\n",
              "    <tr style=\"text-align: right;\">\n",
              "      <th></th>\n",
              "      <th>ano</th>\n",
              "      <th>qtd_doacoes</th>\n",
              "      <th>qtd_doadores</th>\n",
              "      <th>total_receita</th>\n",
              "      <th>media_receita</th>\n",
              "      <th>recursos de outros candidatos/comitês</th>\n",
              "      <th>recursos de pessoas físicas</th>\n",
              "      <th>recursos de pessoas jurídicas</th>\n",
              "      <th>recursos próprios</th>\n",
              "      <th>qtd_despesas</th>\n",
              "      <th>...</th>\n",
              "      <th>ocupacao_TÉCNICO DE QUÍMICA</th>\n",
              "      <th>ocupacao_TÉCNICO EM AGRONOMIA E AGRIMENSURA</th>\n",
              "      <th>ocupacao_TÉCNICO EM EDIFICAÇÕES</th>\n",
              "      <th>ocupacao_TÉCNICO EM INFORMÁTICA</th>\n",
              "      <th>ocupacao_VENDEDOR DE COMÉRCIO VAREJISTA E ATACADISTA</th>\n",
              "      <th>ocupacao_VENDEDOR PRACISTA, REPRESENTANTE, CAIXEIRO-VIAJANTE E ASSEMELHADOS</th>\n",
              "      <th>ocupacao_VEREADOR</th>\n",
              "      <th>ocupacao_VETERINÁRIO</th>\n",
              "      <th>ocupacao_VIGILANTE</th>\n",
              "      <th>ocupacao_ZOOTECNISTA</th>\n",
              "    </tr>\n",
              "  </thead>\n",
              "  <tbody>\n",
              "    <tr>\n",
              "      <th>0</th>\n",
              "      <td>2006</td>\n",
              "      <td>1.945910</td>\n",
              "      <td>1.945910</td>\n",
              "      <td>9.717218</td>\n",
              "      <td>7.925760</td>\n",
              "      <td>8.370968</td>\n",
              "      <td>9.105091</td>\n",
              "      <td>8.748464</td>\n",
              "      <td>7.170888</td>\n",
              "      <td>2.708050</td>\n",
              "      <td>...</td>\n",
              "      <td>0</td>\n",
              "      <td>0</td>\n",
              "      <td>0</td>\n",
              "      <td>0</td>\n",
              "      <td>0</td>\n",
              "      <td>0</td>\n",
              "      <td>1</td>\n",
              "      <td>0</td>\n",
              "      <td>0</td>\n",
              "      <td>0</td>\n",
              "    </tr>\n",
              "    <tr>\n",
              "      <th>1</th>\n",
              "      <td>2006</td>\n",
              "      <td>2.639057</td>\n",
              "      <td>2.639057</td>\n",
              "      <td>10.035699</td>\n",
              "      <td>7.471276</td>\n",
              "      <td>8.798757</td>\n",
              "      <td>9.615872</td>\n",
              "      <td>6.908755</td>\n",
              "      <td>5.308268</td>\n",
              "      <td>3.218876</td>\n",
              "      <td>...</td>\n",
              "      <td>0</td>\n",
              "      <td>0</td>\n",
              "      <td>0</td>\n",
              "      <td>0</td>\n",
              "      <td>0</td>\n",
              "      <td>0</td>\n",
              "      <td>0</td>\n",
              "      <td>0</td>\n",
              "      <td>0</td>\n",
              "      <td>0</td>\n",
              "    </tr>\n",
              "    <tr>\n",
              "      <th>2</th>\n",
              "      <td>2006</td>\n",
              "      <td>2.890372</td>\n",
              "      <td>2.833213</td>\n",
              "      <td>11.905790</td>\n",
              "      <td>9.133303</td>\n",
              "      <td>7.719130</td>\n",
              "      <td>10.438547</td>\n",
              "      <td>11.038461</td>\n",
              "      <td>10.993748</td>\n",
              "      <td>4.820282</td>\n",
              "      <td>...</td>\n",
              "      <td>0</td>\n",
              "      <td>0</td>\n",
              "      <td>0</td>\n",
              "      <td>0</td>\n",
              "      <td>0</td>\n",
              "      <td>0</td>\n",
              "      <td>0</td>\n",
              "      <td>0</td>\n",
              "      <td>0</td>\n",
              "      <td>0</td>\n",
              "    </tr>\n",
              "    <tr>\n",
              "      <th>3</th>\n",
              "      <td>2006</td>\n",
              "      <td>1.945910</td>\n",
              "      <td>1.945910</td>\n",
              "      <td>8.007074</td>\n",
              "      <td>6.216979</td>\n",
              "      <td>8.370968</td>\n",
              "      <td>7.048386</td>\n",
              "      <td>7.004991</td>\n",
              "      <td>6.621406</td>\n",
              "      <td>2.197225</td>\n",
              "      <td>...</td>\n",
              "      <td>0</td>\n",
              "      <td>0</td>\n",
              "      <td>0</td>\n",
              "      <td>0</td>\n",
              "      <td>0</td>\n",
              "      <td>0</td>\n",
              "      <td>0</td>\n",
              "      <td>0</td>\n",
              "      <td>0</td>\n",
              "      <td>0</td>\n",
              "    </tr>\n",
              "    <tr>\n",
              "      <th>4</th>\n",
              "      <td>2006</td>\n",
              "      <td>3.891820</td>\n",
              "      <td>3.891820</td>\n",
              "      <td>9.670482</td>\n",
              "      <td>7.468538</td>\n",
              "      <td>8.370968</td>\n",
              "      <td>10.837206</td>\n",
              "      <td>10.021113</td>\n",
              "      <td>11.141035</td>\n",
              "      <td>4.897840</td>\n",
              "      <td>...</td>\n",
              "      <td>0</td>\n",
              "      <td>0</td>\n",
              "      <td>0</td>\n",
              "      <td>0</td>\n",
              "      <td>0</td>\n",
              "      <td>0</td>\n",
              "      <td>0</td>\n",
              "      <td>0</td>\n",
              "      <td>0</td>\n",
              "      <td>0</td>\n",
              "    </tr>\n",
              "  </tbody>\n",
              "</table>\n",
              "<p>5 rows × 11207 columns</p>\n",
              "</div>\n",
              "      <button class=\"colab-df-convert\" onclick=\"convertToInteractive('df-cf2d84ba-b25d-492b-999c-aac7147124b4')\"\n",
              "              title=\"Convert this dataframe to an interactive table.\"\n",
              "              style=\"display:none;\">\n",
              "        \n",
              "  <svg xmlns=\"http://www.w3.org/2000/svg\" height=\"24px\"viewBox=\"0 0 24 24\"\n",
              "       width=\"24px\">\n",
              "    <path d=\"M0 0h24v24H0V0z\" fill=\"none\"/>\n",
              "    <path d=\"M18.56 5.44l.94 2.06.94-2.06 2.06-.94-2.06-.94-.94-2.06-.94 2.06-2.06.94zm-11 1L8.5 8.5l.94-2.06 2.06-.94-2.06-.94L8.5 2.5l-.94 2.06-2.06.94zm10 10l.94 2.06.94-2.06 2.06-.94-2.06-.94-.94-2.06-.94 2.06-2.06.94z\"/><path d=\"M17.41 7.96l-1.37-1.37c-.4-.4-.92-.59-1.43-.59-.52 0-1.04.2-1.43.59L10.3 9.45l-7.72 7.72c-.78.78-.78 2.05 0 2.83L4 21.41c.39.39.9.59 1.41.59.51 0 1.02-.2 1.41-.59l7.78-7.78 2.81-2.81c.8-.78.8-2.07 0-2.86zM5.41 20L4 18.59l7.72-7.72 1.47 1.35L5.41 20z\"/>\n",
              "  </svg>\n",
              "      </button>\n",
              "      \n",
              "  <style>\n",
              "    .colab-df-container {\n",
              "      display:flex;\n",
              "      flex-wrap:wrap;\n",
              "      gap: 12px;\n",
              "    }\n",
              "\n",
              "    .colab-df-convert {\n",
              "      background-color: #E8F0FE;\n",
              "      border: none;\n",
              "      border-radius: 50%;\n",
              "      cursor: pointer;\n",
              "      display: none;\n",
              "      fill: #1967D2;\n",
              "      height: 32px;\n",
              "      padding: 0 0 0 0;\n",
              "      width: 32px;\n",
              "    }\n",
              "\n",
              "    .colab-df-convert:hover {\n",
              "      background-color: #E2EBFA;\n",
              "      box-shadow: 0px 1px 2px rgba(60, 64, 67, 0.3), 0px 1px 3px 1px rgba(60, 64, 67, 0.15);\n",
              "      fill: #174EA6;\n",
              "    }\n",
              "\n",
              "    [theme=dark] .colab-df-convert {\n",
              "      background-color: #3B4455;\n",
              "      fill: #D2E3FC;\n",
              "    }\n",
              "\n",
              "    [theme=dark] .colab-df-convert:hover {\n",
              "      background-color: #434B5C;\n",
              "      box-shadow: 0px 1px 3px 1px rgba(0, 0, 0, 0.15);\n",
              "      filter: drop-shadow(0px 1px 2px rgba(0, 0, 0, 0.3));\n",
              "      fill: #FFFFFF;\n",
              "    }\n",
              "  </style>\n",
              "\n",
              "      <script>\n",
              "        const buttonEl =\n",
              "          document.querySelector('#df-cf2d84ba-b25d-492b-999c-aac7147124b4 button.colab-df-convert');\n",
              "        buttonEl.style.display =\n",
              "          google.colab.kernel.accessAllowed ? 'block' : 'none';\n",
              "\n",
              "        async function convertToInteractive(key) {\n",
              "          const element = document.querySelector('#df-cf2d84ba-b25d-492b-999c-aac7147124b4');\n",
              "          const dataTable =\n",
              "            await google.colab.kernel.invokeFunction('convertToInteractive',\n",
              "                                                     [key], {});\n",
              "          if (!dataTable) return;\n",
              "\n",
              "          const docLinkHtml = 'Like what you see? Visit the ' +\n",
              "            '<a target=\"_blank\" href=https://colab.research.google.com/notebooks/data_table.ipynb>data table notebook</a>'\n",
              "            + ' to learn more about interactive tables.';\n",
              "          element.innerHTML = '';\n",
              "          dataTable['output_type'] = 'display_data';\n",
              "          await google.colab.output.renderOutput(dataTable, element);\n",
              "          const docLink = document.createElement('div');\n",
              "          docLink.innerHTML = docLinkHtml;\n",
              "          element.appendChild(docLink);\n",
              "        }\n",
              "      </script>\n",
              "    </div>\n",
              "  </div>\n",
              "  "
            ]
          },
          "metadata": {},
          "execution_count": 19
        }
      ]
    },
    {
      "cell_type": "code",
      "source": [
        "df_train, df_test = train_test_split(df_2006_2010_processado, test_size=0.2, random_state = 42)\n",
        "\n",
        "x_train = df_train.drop('votos', axis=1)\n",
        "y_train = df_train['votos']\n",
        "\n",
        "x_test = df_test.drop('votos', axis=1)\n",
        "y_test = df_test['votos']\n",
        "\n",
        "x_geral = df_2006_2010_processado.drop('votos', axis=1)\n",
        "y_geral = df_2006_2010_processado['votos']"
      ],
      "metadata": {
        "id": "_4bkn1YWR1fY"
      },
      "execution_count": 20,
      "outputs": []
    },
    {
      "cell_type": "markdown",
      "source": [
        "# Criando modelo de Regressão Logística"
      ],
      "metadata": {
        "id": "gAvJ8a3ZS8sr"
      }
    },
    {
      "cell_type": "markdown",
      "source": [
        "Treinando o modelo"
      ],
      "metadata": {
        "id": "FuI3-pEKTGbj"
      }
    },
    {
      "cell_type": "code",
      "source": [
        "model_reg = LinearRegression()\n",
        "model_reg.fit(x_train, y_train)"
      ],
      "metadata": {
        "colab": {
          "base_uri": "https://localhost:8080/"
        },
        "id": "sxhQV6-aTFkm",
        "outputId": "dd6e39bb-77be-429b-8427-b7a4205158d4"
      },
      "execution_count": 21,
      "outputs": [
        {
          "output_type": "execute_result",
          "data": {
            "text/plain": [
              "LinearRegression()"
            ]
          },
          "metadata": {},
          "execution_count": 21
        }
      ]
    },
    {
      "cell_type": "markdown",
      "source": [
        "Realizando a predição dos dados"
      ],
      "metadata": {
        "id": "lDCl13cRTjY-"
      }
    },
    {
      "cell_type": "code",
      "source": [
        "y_pred_reg = model_reg.predict(x_test)"
      ],
      "metadata": {
        "id": "0zpHY2k9Tlp-"
      },
      "execution_count": 22,
      "outputs": []
    },
    {
      "cell_type": "markdown",
      "source": [
        "## Valor do RMSE"
      ],
      "metadata": {
        "id": "P_W4-xfWT6IW"
      }
    },
    {
      "cell_type": "code",
      "source": [
        "calcular_rmse(y_test, y_pred_reg)"
      ],
      "metadata": {
        "colab": {
          "base_uri": "https://localhost:8080/"
        },
        "id": "acTPtip1UW3Z",
        "outputId": "18391a6d-186f-4c53-84ff-0b7b30089a3b"
      },
      "execution_count": 23,
      "outputs": [
        {
          "output_type": "execute_result",
          "data": {
            "text/plain": [
              "2803889792.358155"
            ]
          },
          "metadata": {},
          "execution_count": 23
        }
      ]
    },
    {
      "cell_type": "markdown",
      "source": [
        "## Visualização dos resíduos e predições"
      ],
      "metadata": {
        "id": "OO5YGeXqU0kp"
      }
    },
    {
      "cell_type": "code",
      "source": [
        "df_pred = plot_res_e_pred(y_pred_reg, y_test,\"Resíduos e predições\")"
      ],
      "metadata": {
        "colab": {
          "base_uri": "https://localhost:8080/",
          "height": 621
        },
        "id": "U2XV2bZEU9FL",
        "outputId": "fee51288-5849-4028-f794-c63e3b0cc79b"
      },
      "execution_count": 24,
      "outputs": [
        {
          "output_type": "display_data",
          "data": {
            "text/plain": [
              "<Figure size 1080x720 with 1 Axes>"
            ],
            "image/png": "[encoded data removed]"
          },
          "metadata": {
            "needs_background": "light"
          }
        }
      ]
    },
    {
      "cell_type": "code",
      "source": [
        "df_pred.hist()"
      ],
      "metadata": {
        "colab": {
          "base_uri": "https://localhost:8080/",
          "height": 708
        },
        "id": "_D9rnboIVw-W",
        "outputId": "acaa3dd3-8e6c-4766-9a15-2466cf48334e"
      },
      "execution_count": 25,
      "outputs": [
        {
          "output_type": "execute_result",
          "data": {
            "text/plain": [
              "array([[<matplotlib.axes._subplots.AxesSubplot object at 0x7fee5ac7ce50>,\n",
              "        <matplotlib.axes._subplots.AxesSubplot object at 0x7fee5acaf7d0>],\n",
              "       [<matplotlib.axes._subplots.AxesSubplot object at 0x7fee5ac61dd0>,\n",
              "        <matplotlib.axes._subplots.AxesSubplot object at 0x7fee5ac24410>]],\n",
              "      dtype=object)"
            ]
          },
          "metadata": {},
          "execution_count": 25
        },
        {
          "output_type": "display_data",
          "data": {
            "text/plain": [
              "<Figure size 1080x720 with 4 Axes>"
            ],
            "image/png": "[encoded data removed]"
          },
          "metadata": {
            "needs_background": "light"
          }
        }
      ]
    },
    {
      "cell_type": "markdown",
      "source": [
        "Podemos notar que o modelo não se saiu bem. Vemos que as predições estão mais voltadas à direita e muito longe de se atingir o valor ideal para a maioria dos dados como mostra o grafico 'valor_real' que corresponde ao valor real do dado."
      ],
      "metadata": {
        "id": "OaJdWfUkYMFN"
      }
    },
    {
      "cell_type": "markdown",
      "source": [
        "# Cross-validation e regularização"
      ],
      "metadata": {
        "id": "DkDwE79iZoi5"
      }
    },
    {
      "cell_type": "markdown",
      "source": [
        "O modelo anterior não se saiu muito bem, ficando longe de ser um modelo ideal.\n",
        "No modelo anterior, utilizamos o Holdout. Será que conseguimos melhorar o modelo utilizando regularização e Cross-validation? Vamos descobrir."
      ],
      "metadata": {
        "id": "dubjSFuEl8wP"
      }
    },
    {
      "cell_type": "markdown",
      "source": [
        "## Modelo RIDGE"
      ],
      "metadata": {
        "id": "8eeahwVxc3-D"
      }
    },
    {
      "cell_type": "markdown",
      "source": [
        "Vamos utilizar o Ridge e o k-fold Cross-validation, com k= 5. Além disso, vamos escolher alguns valores de alfas para verificar como o modelo se comporta em relação a eles e em seguida verificar qual se saiu melhor."
      ],
      "metadata": {
        "id": "RWozmhHqcL5s"
      }
    },
    {
      "cell_type": "code",
      "source": [
        "cv = 5"
      ],
      "metadata": {
        "id": "LW6EQMQfcJ2E"
      },
      "execution_count": 26,
      "outputs": []
    },
    {
      "cell_type": "code",
      "source": [
        "alphas = [0.2, 0.3, 0.5, 1, 2, 5]\n",
        "value_ridge_rmse = [calcular_rmse_cv(Ridge(alpha=alpha), x_geral, y_geral, cv).mean() for alpha in alphas]\n",
        "\n",
        "value_ridge_rmse"
      ],
      "metadata": {
        "colab": {
          "base_uri": "https://localhost:8080/"
        },
        "id": "JwY92MaEjYhz",
        "outputId": "1f4c9d55-c715-4152-85cd-f6d2d4c78bae"
      },
      "execution_count": 27,
      "outputs": [
        {
          "output_type": "stream",
          "name": "stdout",
          "text": [
            "Valor do RMSE: [0.92461405 0.93299425 0.96769538 0.98304067 0.90141548] \n",
            "Valor do RMSE: [0.92404823 0.93055739 0.96664067 0.9808032  0.89760317] \n",
            "Valor do RMSE: [0.92471454 0.92823288 0.96588345 0.97755327 0.89443327] \n",
            "Valor do RMSE: [0.92802046 0.92674453 0.96654494 0.97372586 0.89302128] \n",
            "Valor do RMSE: [0.9338471  0.92761342 0.96968921 0.97217207 0.89483051] \n",
            "Valor do RMSE: [0.94232384 0.93058888 0.97544234 0.9722805  0.89975922] \n"
          ]
        },
        {
          "output_type": "execute_result",
          "data": {
            "text/plain": [
              "[0.9419519654060874,\n",
              " 0.939930533336973,\n",
              " 0.9381634804258617,\n",
              " 0.9376114160772614,\n",
              " 0.9396304635991187,\n",
              " 0.9440789559191838]"
            ]
          },
          "metadata": {},
          "execution_count": 27
        }
      ]
    },
    {
      "cell_type": "code",
      "source": [
        "cv_ridge = pd.Series(value_ridge_rmse, index = alphas)\n",
        "cv_ridge.mean()"
      ],
      "metadata": {
        "colab": {
          "base_uri": "https://localhost:8080/"
        },
        "id": "t1pwSqq2sc3t",
        "outputId": "5904cd6e-c192-4fdd-d115-73f8be65b054"
      },
      "execution_count": 29,
      "outputs": [
        {
          "output_type": "execute_result",
          "data": {
            "text/plain": [
              "0.9402278024607477"
            ]
          },
          "metadata": {},
          "execution_count": 29
        }
      ]
    },
    {
      "cell_type": "code",
      "source": [
        "plot_validacao(value_ridge_rmse, alphas, \"Ridge - RMSE\")"
      ],
      "metadata": {
        "colab": {
          "base_uri": "https://localhost:8080/",
          "height": 621
        },
        "id": "l31T-ZUXnPxS",
        "outputId": "ee9e1520-d594-4ec7-bc6d-53f61603e752"
      },
      "execution_count": 28,
      "outputs": [
        {
          "output_type": "display_data",
          "data": {
            "text/plain": [
              "<Figure size 1080x720 with 1 Axes>"
            ],
            "image/png": "[encoded data removed]"
          },
          "metadata": {
            "needs_background": "light"
          }
        }
      ]
    },
    {
      "cell_type": "markdown",
      "source": [
        "Podemos ver que quando o valor de alpha é muito grande o modelo não consegue capturar toda a complexidade dos dados. Por outro lado, quando o alpha é pequeno demais o modelo começa a se ajustar demais podendo causar overfiting.\n",
        "\n",
        "Nos resultados obtidos e com base no gráfico, dentre os valores de alpha, o valor alpha = 1 foi o que se saiu melhor."
      ],
      "metadata": {
        "id": "nV05Hn49n6Dt"
      }
    },
    {
      "cell_type": "markdown",
      "source": [
        "## Criar o modelo Ridge com o melhor parâmetro"
      ],
      "metadata": {
        "id": "s2oVLoOutN7c"
      }
    },
    {
      "cell_type": "code",
      "source": [
        "model_ridge = Ridge(alpha=1)\n",
        "\n",
        "model_ridge.fit(x_train, y_train)"
      ],
      "metadata": {
        "colab": {
          "base_uri": "https://localhost:8080/"
        },
        "id": "fQ-NSqvOtSX8",
        "outputId": "030d19bd-a5fc-4f62-9380-28e8273e17c5"
      },
      "execution_count": 30,
      "outputs": [
        {
          "output_type": "execute_result",
          "data": {
            "text/plain": [
              "Ridge(alpha=1)"
            ]
          },
          "metadata": {},
          "execution_count": 30
        }
      ]
    },
    {
      "cell_type": "markdown",
      "source": [
        "Vamos treinar esse modelo e depois testar nos dados de teste para ver se ele se sai melhor que o modelo anterior de regressão logística sem regularização"
      ],
      "metadata": {
        "id": "68jjQMWYkpNY"
      }
    },
    {
      "cell_type": "code",
      "source": [
        "y_pred_ridge = model_ridge.predict(x_test)\n",
        "rmse_ridge = calcular_rmse(y_test, y_pred_ridge)\n",
        "rmse_ridge"
      ],
      "metadata": {
        "colab": {
          "base_uri": "https://localhost:8080/"
        },
        "id": "r_-12_kCtYzu",
        "outputId": "f39ae826-3c28-4272-e393-b9480ee73b6d"
      },
      "execution_count": 31,
      "outputs": [
        {
          "output_type": "execute_result",
          "data": {
            "text/plain": [
              "0.9292733100553906"
            ]
          },
          "metadata": {},
          "execution_count": 31
        }
      ]
    },
    {
      "cell_type": "markdown",
      "source": [
        "Podemos ver que obtivemos um valor bem melhor que o modelo anterior. Então podemos ver que o uso do Cross-validation nos ajudou a encontrar os melhores parâmetros para nosso modelo e em conjunto com a regularização melhorou bastante o resultado do nosso modelo.\n",
        "\n",
        "Vamos visualizar a distribuição dos resíduos"
      ],
      "metadata": {
        "id": "HxhlnX2IpbAx"
      }
    },
    {
      "cell_type": "code",
      "source": [
        "df_pred = plot_res_e_pred(y_pred_ridge, y_test, \"Ridge - Resíduos e Predição\")"
      ],
      "metadata": {
        "colab": {
          "base_uri": "https://localhost:8080/",
          "height": 621
        },
        "id": "YgKfiFMUtwKf",
        "outputId": "1924f2e2-97e2-4380-f129-64bc1e2a5d6e"
      },
      "execution_count": 32,
      "outputs": [
        {
          "output_type": "display_data",
          "data": {
            "text/plain": [
              "<Figure size 1080x720 with 1 Axes>"
            ],
            "image/png": "[encoded data removed]"
          },
          "metadata": {
            "needs_background": "light"
          }
        }
      ]
    },
    {
      "cell_type": "markdown",
      "source": [
        "Vemos uma grande melhora no resultado se comparado ao modelo anterior. O modelo anterior era praticamente uma \"reta\", aqui temos uma distribuição melhor."
      ],
      "metadata": {
        "id": "UUJuVS8FqVWD"
      }
    },
    {
      "cell_type": "code",
      "source": [
        "df_pred.hist()"
      ],
      "metadata": {
        "colab": {
          "base_uri": "https://localhost:8080/",
          "height": 695
        },
        "id": "4uIAiiO_qdXM",
        "outputId": "3517c47c-e8dd-44c7-d8d7-df5fc81c7b98"
      },
      "execution_count": 33,
      "outputs": [
        {
          "output_type": "execute_result",
          "data": {
            "text/plain": [
              "array([[<matplotlib.axes._subplots.AxesSubplot object at 0x7fee5999b290>,\n",
              "        <matplotlib.axes._subplots.AxesSubplot object at 0x7fee5995cc10>],\n",
              "       [<matplotlib.axes._subplots.AxesSubplot object at 0x7fee5811d150>,\n",
              "        <matplotlib.axes._subplots.AxesSubplot object at 0x7fee580d3650>]],\n",
              "      dtype=object)"
            ]
          },
          "metadata": {},
          "execution_count": 33
        },
        {
          "output_type": "display_data",
          "data": {
            "text/plain": [
              "<Figure size 1080x720 with 4 Axes>"
            ],
            "image/png": "[encoded data removed]"
          },
          "metadata": {
            "needs_background": "light"
          }
        }
      ]
    },
    {
      "cell_type": "markdown",
      "source": [
        "Vemos também pelos gráficos acima que os valores preditos pelo modelo se assemelha ao valor real do dado, bem como sua distribuição. Ou seja, tivemos um resultado bem melhor que o modelo anterior."
      ],
      "metadata": {
        "id": "Ar1dK9wcqgx8"
      }
    },
    {
      "cell_type": "markdown",
      "source": [
        "## Modelo Lasso"
      ],
      "metadata": {
        "id": "QIKQi3-M15r5"
      }
    },
    {
      "cell_type": "markdown",
      "source": [
        "Agora vamos verificar o Lasso. Realizando o procedimento semelhante ao que fizemos no modelo Ridge."
      ],
      "metadata": {
        "id": "hp4BcGhAqrGN"
      }
    },
    {
      "cell_type": "code",
      "source": [
        "model_lasso = LassoCV(normalize=True, tol=1e-2, alphas = [1, 0.1, 0.001, 0.0005], max_iter=4000, n_jobs=-1, cv=cv)\n",
        "model_lasso = model_lasso.fit(x_geral, y_geral)"
      ],
      "metadata": {
        "colab": {
          "base_uri": "https://localhost:8080/"
        },
        "id": "Te3gea_517-9",
        "outputId": "1ced132d-9d47-4e3a-9b6b-2818e28ee4ee"
      },
      "execution_count": 34,
      "outputs": [
        {
          "output_type": "stream",
          "name": "stderr",
          "text": [
            "/usr/local/lib/python3.7/dist-packages/sklearn/linear_model/_base.py:145: FutureWarning: 'normalize' was deprecated in version 1.0 and will be removed in 1.2.\n",
            "If you wish to scale the data, use Pipeline with a StandardScaler in a preprocessing stage. To reproduce the previous behavior:\n",
            "\n",
            "from sklearn.pipeline import make_pipeline\n",
            "\n",
            "model = make_pipeline(StandardScaler(with_mean=False), Lasso())\n",
            "\n",
            "If you wish to pass a sample_weight parameter, you need to pass it as a fit parameter to each step of the pipeline as follows:\n",
            "\n",
            "kwargs = {s[0] + '__sample_weight': sample_weight for s in model.steps}\n",
            "model.fit(X, y, **kwargs)\n",
            "\n",
            "Set parameter alpha to: original_alpha * np.sqrt(n_samples). \n",
            "  FutureWarning,\n"
          ]
        }
      ]
    },
    {
      "cell_type": "code",
      "source": [
        "print(f\"Melhor alpha para Lasso: {model_lasso.alpha_}\")"
      ],
      "metadata": {
        "colab": {
          "base_uri": "https://localhost:8080/"
        },
        "id": "sXR3Ynmdq0Uy",
        "outputId": "c7c0fdf7-766b-444d-c52a-685a5939254e"
      },
      "execution_count": 35,
      "outputs": [
        {
          "output_type": "stream",
          "name": "stdout",
          "text": [
            "Melhor alpha para Lasso: 0.0005\n"
          ]
        }
      ]
    },
    {
      "cell_type": "markdown",
      "source": [
        "## Criar o modelo Lasso com o melhor alpha"
      ],
      "metadata": {
        "id": "b1mtMfZM8yYr"
      }
    },
    {
      "cell_type": "code",
      "source": [
        "model_lasso = Lasso(alpha=0.0005, tol=1e-2, max_iter=4000)\n",
        "model_lasso.fit(x_train, y_train)"
      ],
      "metadata": {
        "colab": {
          "base_uri": "https://localhost:8080/"
        },
        "id": "RoG5WKIr81V9",
        "outputId": "13a9ef79-0938-4c0d-b84f-dea3afb4debc"
      },
      "execution_count": 36,
      "outputs": [
        {
          "output_type": "execute_result",
          "data": {
            "text/plain": [
              "Lasso(alpha=0.0005, max_iter=4000, tol=0.01)"
            ]
          },
          "metadata": {},
          "execution_count": 36
        }
      ]
    },
    {
      "cell_type": "code",
      "source": [
        "y_pred_lasso = model_lasso.predict(x_test)\n"
      ],
      "metadata": {
        "id": "ZWuGGwDMqjxC"
      },
      "execution_count": 37,
      "outputs": []
    },
    {
      "cell_type": "code",
      "source": [
        "rmse_lasso = calcular_rmse(y_test, y_pred_lasso)\n",
        "rmse_lasso"
      ],
      "metadata": {
        "colab": {
          "base_uri": "https://localhost:8080/"
        },
        "id": "GAm2kkKl-Q56",
        "outputId": "67bf932d-4f63-4ec0-a268-2e1cc07a6781"
      },
      "execution_count": 38,
      "outputs": [
        {
          "output_type": "execute_result",
          "data": {
            "text/plain": [
              "0.9466751366786604"
            ]
          },
          "metadata": {},
          "execution_count": 38
        }
      ]
    },
    {
      "cell_type": "code",
      "source": [
        "df_pred = plot_res_e_pred(y_pred_lasso, y_test, \"Lasso - Resíduos e Predição\")"
      ],
      "metadata": {
        "colab": {
          "base_uri": "https://localhost:8080/",
          "height": 621
        },
        "id": "q7OS9sHp9a35",
        "outputId": "75997a93-c856-48c0-e981-d4ba6c95765a"
      },
      "execution_count": 39,
      "outputs": [
        {
          "output_type": "display_data",
          "data": {
            "text/plain": [
              "<Figure size 1080x720 with 1 Axes>"
            ],
            "image/png": "[encoded data removed]"
          },
          "metadata": {
            "needs_background": "light"
          }
        }
      ]
    },
    {
      "cell_type": "code",
      "source": [
        "df_pred.hist()"
      ],
      "metadata": {
        "colab": {
          "base_uri": "https://localhost:8080/",
          "height": 695
        },
        "id": "vzN0IFrsAklx",
        "outputId": "e42590f9-ccaf-4288-eca7-0e553e99e64d"
      },
      "execution_count": 40,
      "outputs": [
        {
          "output_type": "execute_result",
          "data": {
            "text/plain": [
              "array([[<matplotlib.axes._subplots.AxesSubplot object at 0x7fee5ace4550>,\n",
              "        <matplotlib.axes._subplots.AxesSubplot object at 0x7fee5d5077d0>],\n",
              "       [<matplotlib.axes._subplots.AxesSubplot object at 0x7fee5802ac50>,\n",
              "        <matplotlib.axes._subplots.AxesSubplot object at 0x7fee57fea310>]],\n",
              "      dtype=object)"
            ]
          },
          "metadata": {},
          "execution_count": 40
        },
        {
          "output_type": "display_data",
          "data": {
            "text/plain": [
              "<Figure size 1080x720 with 4 Axes>"
            ],
            "image/png": "[encoded data removed]"
          },
          "metadata": {
            "needs_background": "light"
          }
        }
      ]
    },
    {
      "cell_type": "markdown",
      "source": [
        "Como podemos ver, tanto pelo RMSE como nos gráficos, o resultado entre o Lasso e o Ridge foram bem similares, porém o Ridge se saiu um pouco melhor."
      ],
      "metadata": {
        "id": "K1XBDqPyApLB"
      }
    },
    {
      "cell_type": "markdown",
      "source": [
        "Podemos ver também quantas variáveis o Lasso selecionou e quantas foram rejeitadas."
      ],
      "metadata": {
        "id": "LWJMEhK7A2lk"
      }
    },
    {
      "cell_type": "code",
      "source": [
        "coef = pd.Series(model_lasso.coef_, index = x_train.columns)\n",
        "print(f\"Lasso selecionou {sum(coef != 0)} variáveis e rejeitou {sum(coef == 0)} variáveis\")"
      ],
      "metadata": {
        "colab": {
          "base_uri": "https://localhost:8080/"
        },
        "id": "0gXNm57wqvGy",
        "outputId": "45d697cf-c836-4e8e-f5ce-f038cae39baa"
      },
      "execution_count": 41,
      "outputs": [
        {
          "output_type": "stream",
          "name": "stdout",
          "text": [
            "Lasso selecionou 176 variáveis e rejeitou 11030 variáveis\n"
          ]
        }
      ]
    },
    {
      "cell_type": "markdown",
      "source": [
        "Podemos dar uma olhada nos coeficientes"
      ],
      "metadata": {
        "id": "locIgwmXrZG8"
      }
    },
    {
      "cell_type": "code",
      "source": [
        "matplotlib.rcParams['figure.figsize'] = (8.0, 10.0)\n",
        "coef_df = pd.concat([coef.sort_values().head(10), coef.sort_values().tail(15)])\n",
        "coef_df.plot(kind= 'barh')\n",
        "plt.title(\"Coeficientes do modelo Lasso\")"
      ],
      "metadata": {
        "colab": {
          "base_uri": "https://localhost:8080/",
          "height": 624
        },
        "id": "RUIWXpwSrdk7",
        "outputId": "756975f8-3cbc-4583-bb57-7f263b1205f1"
      },
      "execution_count": 42,
      "outputs": [
        {
          "output_type": "execute_result",
          "data": {
            "text/plain": [
              "Text(0.5, 1.0, 'Coeficientes do modelo Lasso')"
            ]
          },
          "metadata": {},
          "execution_count": 42
        },
        {
          "output_type": "display_data",
          "data": {
            "text/plain": [
              "<Figure size 576x720 with 1 Axes>"
            ],
            "image/png": "[encoded data removed]"
          },
          "metadata": {
            "needs_background": "light"
          }
        }
      ]
    },
    {
      "cell_type": "markdown",
      "source": [
        "Podemos ver pelo gráfico que o modelo selecionou como feature positiva mais importante 'nome_Clodovil Hernandes'. Além dos nomes, algumas outras features foram selecionadas como: qtd_fornecedores, algumas UFs. ocupações, etc."
      ],
      "metadata": {
        "id": "Dqj16fDfsAil"
      }
    },
    {
      "cell_type": "markdown",
      "source": [
        "## Utilizando outro modelo: KNN"
      ],
      "metadata": {
        "id": "H0kYTGH9uORK"
      }
    },
    {
      "cell_type": "markdown",
      "source": [
        "Vamos utilizar outro modelo que não foi visto. Se trata do KNN."
      ],
      "metadata": {
        "id": "iDqp51QVl2d0"
      }
    },
    {
      "cell_type": "code",
      "source": [
        "model_knn = KNeighborsRegressor(n_neighbors=5).fit(x_train, y_train)"
      ],
      "metadata": {
        "id": "qalk1kS7uRWL"
      },
      "execution_count": 43,
      "outputs": []
    },
    {
      "cell_type": "code",
      "source": [
        "y_pred_knn = model_knn.predict(x_test)\n",
        "y_pred_knn"
      ],
      "metadata": {
        "colab": {
          "base_uri": "https://localhost:8080/"
        },
        "id": "M8B3RMI4uXdr",
        "outputId": "5f775330-049f-444e-c6fc-f88bdc6498be"
      },
      "execution_count": 44,
      "outputs": [
        {
          "output_type": "execute_result",
          "data": {
            "text/plain": [
              "array([ 9.95287467,  8.18898522,  8.41444002, ..., 11.46751165,\n",
              "        9.42864174,  9.57350262])"
            ]
          },
          "metadata": {},
          "execution_count": 44
        }
      ]
    },
    {
      "cell_type": "code",
      "source": [
        "mse_knn = calcular_rmse(y_test, y_pred_knn)\n",
        "mse_knn"
      ],
      "metadata": {
        "colab": {
          "base_uri": "https://localhost:8080/"
        },
        "id": "9utTaIm4ucj7",
        "outputId": "9f7cd5e9-06ae-4c87-c4f9-99df48b250bb"
      },
      "execution_count": 45,
      "outputs": [
        {
          "output_type": "execute_result",
          "data": {
            "text/plain": [
              "1.009874759890714"
            ]
          },
          "metadata": {},
          "execution_count": 45
        }
      ]
    },
    {
      "cell_type": "markdown",
      "source": [
        "Vamos visualizar os resíduos"
      ],
      "metadata": {
        "id": "PGSJLfeYugEE"
      }
    },
    {
      "cell_type": "code",
      "source": [
        "df_pred = plot_res_e_pred(y_pred_knn, y_test, \"KNN - Resíduos e Predição\")"
      ],
      "metadata": {
        "colab": {
          "base_uri": "https://localhost:8080/",
          "height": 621
        },
        "id": "TW-PpA2gulRE",
        "outputId": "5c774b34-bb78-439e-b129-019d503aa301"
      },
      "execution_count": 46,
      "outputs": [
        {
          "output_type": "display_data",
          "data": {
            "text/plain": [
              "<Figure size 576x720 with 1 Axes>"
            ],
            "image/png": "[encoded data removed]"
          },
          "metadata": {
            "needs_background": "light"
          }
        }
      ]
    },
    {
      "cell_type": "code",
      "source": [
        "df_pred.hist()"
      ],
      "metadata": {
        "colab": {
          "base_uri": "https://localhost:8080/",
          "height": 695
        },
        "id": "bL8IhEK8Bzsl",
        "outputId": "d22ce28b-9c1b-42f6-8440-f09f309e3475"
      },
      "execution_count": 47,
      "outputs": [
        {
          "output_type": "execute_result",
          "data": {
            "text/plain": [
              "array([[<matplotlib.axes._subplots.AxesSubplot object at 0x7fee57d03410>,\n",
              "        <matplotlib.axes._subplots.AxesSubplot object at 0x7fee57cb9d50>],\n",
              "       [<matplotlib.axes._subplots.AxesSubplot object at 0x7fee57c7a690>,\n",
              "        <matplotlib.axes._subplots.AxesSubplot object at 0x7fee57cafb90>]],\n",
              "      dtype=object)"
            ]
          },
          "metadata": {},
          "execution_count": 47
        },
        {
          "output_type": "display_data",
          "data": {
            "text/plain": [
              "<Figure size 576x720 with 4 Axes>"
            ],
            "image/png": "[encoded data removed]"
          },
          "metadata": {
            "needs_background": "light"
          }
        }
      ]
    },
    {
      "cell_type": "markdown",
      "source": [
        "O resultado ficou próximo dos modelos Ridge e Lasso, porém o modelo KNN apresentou um desempenho um pouco inferior se comparado aos dois modelos(Ridge e Lasso), mas se saiu bem melhor que o modelo inicial de regressão sem regularização."
      ],
      "metadata": {
        "id": "CK8I4Ay5B2jW"
      }
    },
    {
      "cell_type": "markdown",
      "source": [
        "# Visualizando todos os modelos juntos"
      ],
      "metadata": {
        "id": "sOMepAAhvgDl"
      }
    },
    {
      "cell_type": "code",
      "source": [
        "matplotlib.rcParams['figure.figsize'] = (20, 10.0)\n",
        "fig, axs = plt.subplots(2, 2)\n",
        "fig.suptitle('Todos os modelos')\n",
        "\n",
        "df_pred = get_df_plot(y_pred_reg, y_test)\n",
        "df_pred_ridge = get_df_plot(y_pred_ridge, y_test)\n",
        "df_pred_lasso = get_df_plot(y_pred_lasso, y_test)\n",
        "df_pred_knn = get_df_plot(y_pred_knn, y_test)\n",
        "\n",
        "X_axis = \"predicao\"\n",
        "Y_axis = \"residuos\"\n",
        "kind_plot = \"scatter\"\n",
        "\n",
        "axs[0, 0].scatter(df_pred[X_axis], df_pred[Y_axis])\n",
        "axs[0, 0].set_title('Regressão sem regularização')\n",
        "axs[0, 1].scatter(x = df_pred_ridge[X_axis], y = df_pred_ridge[Y_axis])\n",
        "axs[0, 1].set_title('Ridge')\n",
        "axs[1, 0].scatter(x = df_pred_lasso[X_axis], y = df_pred_lasso[Y_axis])\n",
        "axs[1, 0].set_title('Lasso')\n",
        "axs[1, 1].scatter(x = df_pred_knn[X_axis], y = df_pred_knn[Y_axis])\n",
        "axs[1, 1].set_title('KNN')\n",
        "\n",
        "\n",
        "for ax in axs.flat:\n",
        "    ax.set(xlabel='Predição', ylabel='Resíduos')\n",
        "\n",
        "for ax in axs.flat:\n",
        "    ax.label_outer()"
      ],
      "metadata": {
        "colab": {
          "base_uri": "https://localhost:8080/",
          "height": 677
        },
        "id": "sYQXe7lmvlJo",
        "outputId": "64a08ae1-a5fa-44cc-a954-1368d90509dd"
      },
      "execution_count": 48,
      "outputs": [
        {
          "output_type": "display_data",
          "data": {
            "text/plain": [
              "<Figure size 1440x720 with 4 Axes>"
            ],
            "image/png": "[encoded data removed]"
          },
          "metadata": {
            "needs_background": "light"
          }
        }
      ]
    },
    {
      "cell_type": "markdown",
      "source": [
        "De forma geral, podemos ver com base nos valores de RMSE apresentados anteriormente, bem como nos gráficos, que dentre os modelos, o Ridge foi o melhor, seguido do Lasso, KNN e Regressão sem regularização."
      ],
      "metadata": {
        "id": "mFEWz7qs0UGH"
      }
    },
    {
      "cell_type": "markdown",
      "source": [
        "# Verificando com os dados de 2014"
      ],
      "metadata": {
        "id": "x1VHnrsp03Yu"
      }
    },
    {
      "cell_type": "markdown",
      "source": [
        "Agora que temos os melhores modelos para os dados de 2006 e 2010, vamos agora utilizar os modelos para fazer a predição nos dados de 2014."
      ],
      "metadata": {
        "id": "qBCARF0QFUUo"
      }
    },
    {
      "cell_type": "code",
      "source": [
        "df_2014_processado = df[df.ano == 2014]\n",
        "df_2014_processado.head()"
      ],
      "metadata": {
        "colab": {
          "base_uri": "https://localhost:8080/",
          "height": 369
        },
        "id": "-7h9YN4N1plD",
        "outputId": "76aea0e4-b92e-4ec2-d303-c97805e3f7bc"
      },
      "execution_count": 49,
      "outputs": [
        {
          "output_type": "execute_result",
          "data": {
            "text/plain": [
              "       ano  qtd_doacoes  qtd_doadores  total_receita  media_receita  \\\n",
              "7330  2014     1.386294      1.386294       7.365813       6.268465   \n",
              "7331  2014     1.791759      1.791759       8.064951       6.456770   \n",
              "7332  2014     3.713572      3.663562      12.716781       9.079305   \n",
              "7333  2014     3.401197      3.401197      11.962218       8.595101   \n",
              "7334  2014     5.081404      4.990433      13.474546       8.491143   \n",
              "\n",
              "      recursos de outros candidatos/comitês  recursos de pessoas físicas  \\\n",
              "7330                               8.370968                     7.313887   \n",
              "7331                               8.370968                     8.039480   \n",
              "7332                               7.562198                    11.092869   \n",
              "7333                              10.574474                    11.138739   \n",
              "7334                               9.210440                    12.757293   \n",
              "\n",
              "      recursos de pessoas jurídicas  recursos próprios  qtd_despesas  ...  \\\n",
              "7330                      10.021113           8.458250      1.386294  ...   \n",
              "7331                      10.021113           8.458250      1.945910  ...   \n",
              "7332                      11.945818          11.652696      4.983607  ...   \n",
              "7333                       9.741027           8.826758      4.919981  ...   \n",
              "7334                      12.531776          11.264477      6.251904  ...   \n",
              "\n",
              "      ocupacao_TÉCNICO DE QUÍMICA  \\\n",
              "7330                            0   \n",
              "7331                            0   \n",
              "7332                            0   \n",
              "7333                            0   \n",
              "7334                            0   \n",
              "\n",
              "      ocupacao_TÉCNICO EM AGRONOMIA E AGRIMENSURA  \\\n",
              "7330                                            0   \n",
              "7331                                            0   \n",
              "7332                                            0   \n",
              "7333                                            0   \n",
              "7334                                            0   \n",
              "\n",
              "      ocupacao_TÉCNICO EM EDIFICAÇÕES  ocupacao_TÉCNICO EM INFORMÁTICA  \\\n",
              "7330                                0                                0   \n",
              "7331                                0                                0   \n",
              "7332                                0                                0   \n",
              "7333                                0                                0   \n",
              "7334                                0                                0   \n",
              "\n",
              "      ocupacao_VENDEDOR DE COMÉRCIO VAREJISTA E ATACADISTA  \\\n",
              "7330                                                  0      \n",
              "7331                                                  0      \n",
              "7332                                                  0      \n",
              "7333                                                  0      \n",
              "7334                                                  0      \n",
              "\n",
              "      ocupacao_VENDEDOR PRACISTA, REPRESENTANTE, CAIXEIRO-VIAJANTE E ASSEMELHADOS  \\\n",
              "7330                                                  0                             \n",
              "7331                                                  0                             \n",
              "7332                                                  0                             \n",
              "7333                                                  0                             \n",
              "7334                                                  0                             \n",
              "\n",
              "      ocupacao_VEREADOR  ocupacao_VETERINÁRIO  ocupacao_VIGILANTE  \\\n",
              "7330                  0                     0                   0   \n",
              "7331                  0                     0                   1   \n",
              "7332                  0                     0                   0   \n",
              "7333                  0                     0                   0   \n",
              "7334                  0                     0                   0   \n",
              "\n",
              "      ocupacao_ZOOTECNISTA  \n",
              "7330                     0  \n",
              "7331                     0  \n",
              "7332                     0  \n",
              "7333                     0  \n",
              "7334                     0  \n",
              "\n",
              "[5 rows x 11207 columns]"
            ],
            "text/html": [
              "\n",
              "  <div id=\"df-04853102-e031-4e87-be88-f950b7ffd1f9\">\n",
              "    <div class=\"colab-df-container\">\n",
              "      <div>\n",
              "<style scoped>\n",
              "    .dataframe tbody tr th:only-of-type {\n",
              "        vertical-align: middle;\n",
              "    }\n",
              "\n",
              "    .dataframe tbody tr th {\n",
              "        vertical-align: top;\n",
              "    }\n",
              "\n",
              "    .dataframe thead th {\n",
              "        text-align: right;\n",
              "    }\n",
              "</style>\n",
              "<table border=\"1\" class=\"dataframe\">\n",
              "  <thead>\n",
              "    <tr style=\"text-align: right;\">\n",
              "      <th></th>\n",
              "      <th>ano</th>\n",
              "      <th>qtd_doacoes</th>\n",
              "      <th>qtd_doadores</th>\n",
              "      <th>total_receita</th>\n",
              "      <th>media_receita</th>\n",
              "      <th>recursos de outros candidatos/comitês</th>\n",
              "      <th>recursos de pessoas físicas</th>\n",
              "      <th>recursos de pessoas jurídicas</th>\n",
              "      <th>recursos próprios</th>\n",
              "      <th>qtd_despesas</th>\n",
              "      <th>...</th>\n",
              "      <th>ocupacao_TÉCNICO DE QUÍMICA</th>\n",
              "      <th>ocupacao_TÉCNICO EM AGRONOMIA E AGRIMENSURA</th>\n",
              "      <th>ocupacao_TÉCNICO EM EDIFICAÇÕES</th>\n",
              "      <th>ocupacao_TÉCNICO EM INFORMÁTICA</th>\n",
              "      <th>ocupacao_VENDEDOR DE COMÉRCIO VAREJISTA E ATACADISTA</th>\n",
              "      <th>ocupacao_VENDEDOR PRACISTA, REPRESENTANTE, CAIXEIRO-VIAJANTE E ASSEMELHADOS</th>\n",
              "      <th>ocupacao_VEREADOR</th>\n",
              "      <th>ocupacao_VETERINÁRIO</th>\n",
              "      <th>ocupacao_VIGILANTE</th>\n",
              "      <th>ocupacao_ZOOTECNISTA</th>\n",
              "    </tr>\n",
              "  </thead>\n",
              "  <tbody>\n",
              "    <tr>\n",
              "      <th>7330</th>\n",
              "      <td>2014</td>\n",
              "      <td>1.386294</td>\n",
              "      <td>1.386294</td>\n",
              "      <td>7.365813</td>\n",
              "      <td>6.268465</td>\n",
              "      <td>8.370968</td>\n",
              "      <td>7.313887</td>\n",
              "      <td>10.021113</td>\n",
              "      <td>8.458250</td>\n",
              "      <td>1.386294</td>\n",
              "      <td>...</td>\n",
              "      <td>0</td>\n",
              "      <td>0</td>\n",
              "      <td>0</td>\n",
              "      <td>0</td>\n",
              "      <td>0</td>\n",
              "      <td>0</td>\n",
              "      <td>0</td>\n",
              "      <td>0</td>\n",
              "      <td>0</td>\n",
              "      <td>0</td>\n",
              "    </tr>\n",
              "    <tr>\n",
              "      <th>7331</th>\n",
              "      <td>2014</td>\n",
              "      <td>1.791759</td>\n",
              "      <td>1.791759</td>\n",
              "      <td>8.064951</td>\n",
              "      <td>6.456770</td>\n",
              "      <td>8.370968</td>\n",
              "      <td>8.039480</td>\n",
              "      <td>10.021113</td>\n",
              "      <td>8.458250</td>\n",
              "      <td>1.945910</td>\n",
              "      <td>...</td>\n",
              "      <td>0</td>\n",
              "      <td>0</td>\n",
              "      <td>0</td>\n",
              "      <td>0</td>\n",
              "      <td>0</td>\n",
              "      <td>0</td>\n",
              "      <td>0</td>\n",
              "      <td>0</td>\n",
              "      <td>1</td>\n",
              "      <td>0</td>\n",
              "    </tr>\n",
              "    <tr>\n",
              "      <th>7332</th>\n",
              "      <td>2014</td>\n",
              "      <td>3.713572</td>\n",
              "      <td>3.663562</td>\n",
              "      <td>12.716781</td>\n",
              "      <td>9.079305</td>\n",
              "      <td>7.562198</td>\n",
              "      <td>11.092869</td>\n",
              "      <td>11.945818</td>\n",
              "      <td>11.652696</td>\n",
              "      <td>4.983607</td>\n",
              "      <td>...</td>\n",
              "      <td>0</td>\n",
              "      <td>0</td>\n",
              "      <td>0</td>\n",
              "      <td>0</td>\n",
              "      <td>0</td>\n",
              "      <td>0</td>\n",
              "      <td>0</td>\n",
              "      <td>0</td>\n",
              "      <td>0</td>\n",
              "      <td>0</td>\n",
              "    </tr>\n",
              "    <tr>\n",
              "      <th>7333</th>\n",
              "      <td>2014</td>\n",
              "      <td>3.401197</td>\n",
              "      <td>3.401197</td>\n",
              "      <td>11.962218</td>\n",
              "      <td>8.595101</td>\n",
              "      <td>10.574474</td>\n",
              "      <td>11.138739</td>\n",
              "      <td>9.741027</td>\n",
              "      <td>8.826758</td>\n",
              "      <td>4.919981</td>\n",
              "      <td>...</td>\n",
              "      <td>0</td>\n",
              "      <td>0</td>\n",
              "      <td>0</td>\n",
              "      <td>0</td>\n",
              "      <td>0</td>\n",
              "      <td>0</td>\n",
              "      <td>0</td>\n",
              "      <td>0</td>\n",
              "      <td>0</td>\n",
              "      <td>0</td>\n",
              "    </tr>\n",
              "    <tr>\n",
              "      <th>7334</th>\n",
              "      <td>2014</td>\n",
              "      <td>5.081404</td>\n",
              "      <td>4.990433</td>\n",
              "      <td>13.474546</td>\n",
              "      <td>8.491143</td>\n",
              "      <td>9.210440</td>\n",
              "      <td>12.757293</td>\n",
              "      <td>12.531776</td>\n",
              "      <td>11.264477</td>\n",
              "      <td>6.251904</td>\n",
              "      <td>...</td>\n",
              "      <td>0</td>\n",
              "      <td>0</td>\n",
              "      <td>0</td>\n",
              "      <td>0</td>\n",
              "      <td>0</td>\n",
              "      <td>0</td>\n",
              "      <td>0</td>\n",
              "      <td>0</td>\n",
              "      <td>0</td>\n",
              "      <td>0</td>\n",
              "    </tr>\n",
              "  </tbody>\n",
              "</table>\n",
              "<p>5 rows × 11207 columns</p>\n",
              "</div>\n",
              "      <button class=\"colab-df-convert\" onclick=\"convertToInteractive('df-04853102-e031-4e87-be88-f950b7ffd1f9')\"\n",
              "              title=\"Convert this dataframe to an interactive table.\"\n",
              "              style=\"display:none;\">\n",
              "        \n",
              "  <svg xmlns=\"http://www.w3.org/2000/svg\" height=\"24px\"viewBox=\"0 0 24 24\"\n",
              "       width=\"24px\">\n",
              "    <path d=\"M0 0h24v24H0V0z\" fill=\"none\"/>\n",
              "    <path d=\"M18.56 5.44l.94 2.06.94-2.06 2.06-.94-2.06-.94-.94-2.06-.94 2.06-2.06.94zm-11 1L8.5 8.5l.94-2.06 2.06-.94-2.06-.94L8.5 2.5l-.94 2.06-2.06.94zm10 10l.94 2.06.94-2.06 2.06-.94-2.06-.94-.94-2.06-.94 2.06-2.06.94z\"/><path d=\"M17.41 7.96l-1.37-1.37c-.4-.4-.92-.59-1.43-.59-.52 0-1.04.2-1.43.59L10.3 9.45l-7.72 7.72c-.78.78-.78 2.05 0 2.83L4 21.41c.39.39.9.59 1.41.59.51 0 1.02-.2 1.41-.59l7.78-7.78 2.81-2.81c.8-.78.8-2.07 0-2.86zM5.41 20L4 18.59l7.72-7.72 1.47 1.35L5.41 20z\"/>\n",
              "  </svg>\n",
              "      </button>\n",
              "      \n",
              "  <style>\n",
              "    .colab-df-container {\n",
              "      display:flex;\n",
              "      flex-wrap:wrap;\n",
              "      gap: 12px;\n",
              "    }\n",
              "\n",
              "    .colab-df-convert {\n",
              "      background-color: #E8F0FE;\n",
              "      border: none;\n",
              "      border-radius: 50%;\n",
              "      cursor: pointer;\n",
              "      display: none;\n",
              "      fill: #1967D2;\n",
              "      height: 32px;\n",
              "      padding: 0 0 0 0;\n",
              "      width: 32px;\n",
              "    }\n",
              "\n",
              "    .colab-df-convert:hover {\n",
              "      background-color: #E2EBFA;\n",
              "      box-shadow: 0px 1px 2px rgba(60, 64, 67, 0.3), 0px 1px 3px 1px rgba(60, 64, 67, 0.15);\n",
              "      fill: #174EA6;\n",
              "    }\n",
              "\n",
              "    [theme=dark] .colab-df-convert {\n",
              "      background-color: #3B4455;\n",
              "      fill: #D2E3FC;\n",
              "    }\n",
              "\n",
              "    [theme=dark] .colab-df-convert:hover {\n",
              "      background-color: #434B5C;\n",
              "      box-shadow: 0px 1px 3px 1px rgba(0, 0, 0, 0.15);\n",
              "      filter: drop-shadow(0px 1px 2px rgba(0, 0, 0, 0.3));\n",
              "      fill: #FFFFFF;\n",
              "    }\n",
              "  </style>\n",
              "\n",
              "      <script>\n",
              "        const buttonEl =\n",
              "          document.querySelector('#df-04853102-e031-4e87-be88-f950b7ffd1f9 button.colab-df-convert');\n",
              "        buttonEl.style.display =\n",
              "          google.colab.kernel.accessAllowed ? 'block' : 'none';\n",
              "\n",
              "        async function convertToInteractive(key) {\n",
              "          const element = document.querySelector('#df-04853102-e031-4e87-be88-f950b7ffd1f9');\n",
              "          const dataTable =\n",
              "            await google.colab.kernel.invokeFunction('convertToInteractive',\n",
              "                                                     [key], {});\n",
              "          if (!dataTable) return;\n",
              "\n",
              "          const docLinkHtml = 'Like what you see? Visit the ' +\n",
              "            '<a target=\"_blank\" href=https://colab.research.google.com/notebooks/data_table.ipynb>data table notebook</a>'\n",
              "            + ' to learn more about interactive tables.';\n",
              "          element.innerHTML = '';\n",
              "          dataTable['output_type'] = 'display_data';\n",
              "          await google.colab.output.renderOutput(dataTable, element);\n",
              "          const docLink = document.createElement('div');\n",
              "          docLink.innerHTML = docLinkHtml;\n",
              "          element.appendChild(docLink);\n",
              "        }\n",
              "      </script>\n",
              "    </div>\n",
              "  </div>\n",
              "  "
            ]
          },
          "metadata": {},
          "execution_count": 49
        }
      ]
    },
    {
      "cell_type": "markdown",
      "source": [
        "Agora vamos verificar nos nossos modelos já criados"
      ],
      "metadata": {
        "id": "IbxHbwdyEncD"
      }
    },
    {
      "cell_type": "code",
      "source": [
        "x_2014 = df_2014_processado.drop('votos', axis=1)\n",
        "y_2014 = df_2014_processado['votos']\n",
        "\n",
        "y_pred_reg_2014 = model_reg.predict(x_2014)\n",
        "y_pred_ridge_2014 = model_ridge.predict(x_2014)\n",
        "y_pred_lasso_2014 = model_lasso.predict(x_2014)\n",
        "y_pred_knn_2014 = model_knn.predict(x_2014)\n"
      ],
      "metadata": {
        "id": "3hD4UIFfAa52"
      },
      "execution_count": 50,
      "outputs": []
    },
    {
      "cell_type": "code",
      "source": [
        "reg_rmse_2014 = calcular_rmse(y_2014,y_pred_reg_2014)\n",
        "ridge_rmse_2014 = calcular_rmse(y_2014,y_pred_ridge_2014)\n",
        "lasso_rmse_2014 = calcular_rmse(y_2014,y_pred_lasso_2014)\n",
        "knn_rmse_2014 = calcular_rmse(y_2014,y_pred_knn_2014)\n",
        "\n",
        "print(f\"RMSE Regressão Logística: {reg_rmse_2014}\")\n",
        "print(f\"RMSE Ridge: {ridge_rmse_2014}\")\n",
        "print(f\"RMSE Lasso: {lasso_rmse_2014}\")\n",
        "print(f\"RMSE KNN: {knn_rmse_2014}\")"
      ],
      "metadata": {
        "id": "TUA_83XBFiPm",
        "colab": {
          "base_uri": "https://localhost:8080/"
        },
        "outputId": "a5a5240f-7ebc-4987-ab78-c97fafc06620"
      },
      "execution_count": 51,
      "outputs": [
        {
          "output_type": "stream",
          "name": "stdout",
          "text": [
            "RMSE Regressão Logística: 2745020265.2847977\n",
            "RMSE Ridge: 1.6807497897450316\n",
            "RMSE Lasso: 1.686876301549097\n",
            "RMSE KNN: 1.7899914946217574\n"
          ]
        }
      ]
    },
    {
      "cell_type": "markdown",
      "source": [
        "Podemos ver que os melhores modelos, do melhor para o pior, foram: Ridge, Lasso, KNN e Regressão.\n",
        "\n",
        "Sendo que dentre eles os modelos Ridge e Lasso ficaram bem próximos."
      ],
      "metadata": {
        "id": "RVY01VQIIzXI"
      }
    }
  ]
}